{
 "cells": [
  {
   "cell_type": "markdown",
   "metadata": {},
   "source": [
    "# Notes:\n",
    "In this iteration, I want to experiment with creating datasets like the one described [here](https://www.kaggle.com/abhinavwalia95/entity-annotated-corpus) from the PDFs that Robert's already sent over. In the initial hypothesis of what V2 would entail, I figured that the process to create the first dataset from an initial PDF would be a bit painful. \n",
    "\n",
    "#### Some Concerns:\n",
    "I wonder if it might not just be more prudent to search out a pretrained dataset for this exact circumstance. It seems like there's more available than I thought, and they may have been created by trained doctors instead of my kind of random floundering. I also haven't done a deep dive into Google's own NLP resources, which I abandoned because I thought they wouldn't suit the task at hand.\n",
    "\n",
    "#### Current Strategy \n",
    "I'm planning on using python to automatically write the csv for me, because the process looks like it's done in a repetitive fashion as long as I can write the rules well enough. I think it can write all the rules so they apply to a Pandas dataframe, and then once I have the frame created, I can just write it to a csv. \n",
    "\n",
    "#### Pitfalls/Need to Do's\n",
    "Very uncertain on how a PD actually handles slicing - the original tutorial on Treehouse wasn't very helpful. I know it involves two properties of the dataframe, `.loc` is one of them, but they seemed tempermental when the dude was going over them, so I'm not 100% sure how to use them. "
   ]
  },
  {
   "cell_type": "code",
   "execution_count": 10,
   "metadata": {},
   "outputs": [],
   "source": [
    "import os\n",
    "import csv\n",
    "import nltk\n",
    "import numpy as np\n",
    "import pandas as pd\n",
    "import re "
   ]
  },
  {
   "cell_type": "markdown",
   "metadata": {},
   "source": [
    "## Columns\n",
    "Index <br>\n",
    "no. = sentence number <br>\n",
    "lemma = lemma of a token in sentence <br>\n",
    "next-lemma = lemma of next token in sentence <br>\n",
    "next-next-lemma = Lemma of token at +2nd position to the current token in sentence<br>"
   ]
  },
  {
   "cell_type": "code",
   "execution_count": 20,
   "metadata": {},
   "outputs": [
    {
     "data": {
      "text/html": [
       "<div>\n",
       "<style scoped>\n",
       "    .dataframe tbody tr th:only-of-type {\n",
       "        vertical-align: middle;\n",
       "    }\n",
       "\n",
       "    .dataframe tbody tr th {\n",
       "        vertical-align: top;\n",
       "    }\n",
       "\n",
       "    .dataframe thead th {\n",
       "        text-align: right;\n",
       "    }\n",
       "</style>\n",
       "<table border=\"1\" class=\"dataframe\">\n",
       "  <thead>\n",
       "    <tr style=\"text-align: right;\">\n",
       "      <th></th>\n",
       "      <th>no.</th>\n",
       "      <th>lemma</th>\n",
       "      <th>next-lemma</th>\n",
       "      <th>next-next-lemma</th>\n",
       "    </tr>\n",
       "  </thead>\n",
       "  <tbody>\n",
       "    <tr>\n",
       "      <th>1</th>\n",
       "      <td>0</td>\n",
       "      <td>0</td>\n",
       "      <td>0</td>\n",
       "      <td>0</td>\n",
       "    </tr>\n",
       "    <tr>\n",
       "      <th>2</th>\n",
       "      <td>1</td>\n",
       "      <td>1</td>\n",
       "      <td>1</td>\n",
       "      <td>1</td>\n",
       "    </tr>\n",
       "    <tr>\n",
       "      <th>3</th>\n",
       "      <td>2</td>\n",
       "      <td>2</td>\n",
       "      <td>2</td>\n",
       "      <td>2</td>\n",
       "    </tr>\n",
       "  </tbody>\n",
       "</table>\n",
       "</div>"
      ],
      "text/plain": [
       "   no.  lemma  next-lemma  next-next-lemma\n",
       "1    0      0           0                0\n",
       "2    1      1           1                1\n",
       "3    2      2           2                2"
      ]
     },
     "execution_count": 20,
     "metadata": {},
     "output_type": "execute_result"
    }
   ],
   "source": [
    "# list of strings\n",
    "myColumns = ['no.','lemma','next-lemma','next-next-lemma']\n",
    "# list of integers\n",
    "myIndex = [1, 2, 3]\n",
    "# numpy array (if you try and run a single calc repetitively, you need .T to transpose it)\n",
    "data = np.array([np.arange(3)]*4).T\n",
    "\n",
    "ann_corpus = pd.DataFrame(data, index=myIndex, columns=myColumns)\n",
    "ann_corpus"
   ]
  },
  {
   "cell_type": "code",
   "execution_count": null,
   "metadata": {},
   "outputs": [],
   "source": []
  }
 ],
 "metadata": {
  "kernelspec": {
   "display_name": "default",
   "language": "python",
   "name": "default"
  },
  "language_info": {
   "codemirror_mode": {
    "name": "ipython",
    "version": 3
   },
   "file_extension": ".py",
   "mimetype": "text/x-python",
   "name": "python",
   "nbconvert_exporter": "python",
   "pygments_lexer": "ipython3",
   "version": "3.6.8"
  }
 },
 "nbformat": 4,
 "nbformat_minor": 2
}
