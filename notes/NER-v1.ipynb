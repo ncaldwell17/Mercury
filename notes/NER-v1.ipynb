{
 "cells": [
  {
   "cell_type": "markdown",
   "metadata": {},
   "source": [
    "# What is Named Entity Recognition?\n",
    "\n",
    "Named entities - in QS's use case - can include:\n",
    "1. Drug Names, (e.g.  Adalimumab)\n",
    "2. Condition Names, (e.g. Non-infectious uveitis) \n",
    "3. Treatments, (e.g. Dexamethasone intravitreal implant)\n",
    "4. Side-Effects paired w/ Drug Names?, (e.g. nasopharyngitis, entity usually follows a tagged line indicating the drug)\n",
    "5. Procedure, (e.g. X Drug costs Y amount for Z treatment)\n",
    "\n",
    "This is achieved using one or more machine learning sequence models to label entities but can also call special rule-based components to interpret numerical data such as prices (e.g. converts all currencies to USD) using regular expressions. \n",
    "\n",
    "NER is a method of building knowledge from semi-structured and unstructured text sources. In QS's use case, it can be used to locate, classify, and extract named entities - such as the ones I listed above, from a text into those same pre-defined categories. It can be used to answer queries like:\n",
    "* What conditions were mentioned in the study?\n",
    "* Does this study cover treatments?\n",
    "* What side effects come with those treatments?\n",
    "\n",
    "### NER Pipeline Overview (Based on the Stanford Model) \n",
    "1. Statistical Models\n",
    "2. Numeric Sequences and SUTime\n",
    "3. Fine Grained NER\n",
    "4. RegexNER Rules Format\n",
    "5. Customizing the Fine-Grained NER\n",
    "6. Additional TokensRegexNER Rules\n",
    "7. Additional TokensRegex Rules\n",
    "8. Entity Mention Detection \n",
    "9. API Creation \n",
    "10. Accessing Entity Confidences \n",
    "\n",
    "### Basic Example: Building an NER using SpaCy and NLTK \n",
    "__Source:__ [Susan Li on Towards Data Science](https://towardsdatascience.com/named-entity-recognition-with-nltk-and-spacy-8c4a7d88e7da)<br>\n",
    "__Summary:__\n",
    "\n",
    "\n",
    "### Foundational Paper: Incorporating Non-local Information into Information Extraction Systems by Gibbs Sampling - Stanford \n",
    "__Source:__ [White Paper from Stanford University](https://nlp.stanford.edu/~manning/papers/gibbscrf3.pdf)<br>\n",
    "__Summary:__ \n",
    "\n",
    "### Continued Improvements: Fine-Grained Entity Recognition (FIGER) \n",
    "__Source:__ [White Paper from the University of Washington](http://xiaoling.github.io/pubs/ling-aaai12.pdf)<br>\n",
    "__Summary:__<br>\n",
    "__Notes:__ This implementation is in Java only.<br><br>\n",
    "There are three main challenges towards the development of a medically-specific, fine-grained Entity Recognizer that can be trained to recognize uncommon entities:\n",
    "1. Selection of the tag set (i.e. the labels)\n",
    "2. Creation of training data\n",
    "3. Development of a fast and accurate multi-class labeling algorithm.<br>\n",
    "\n",
    "\n",
    "##### Selection of the Tag Set \n",
    "[FIGER](http://xiaoling.github.io/pubs/ling-aaai12.pdf)'s authors propose the curation of 112 unique tags based on [Freebase](https://developers.google.com/freebase/guide/basic_concepts) types. \n",
    "\n",
    "##### Training Data Creation\n",
    "FIGER's authors propose exploiting anchor links in Wikipedia text to automatically label entity segments with appropriate tags. \n",
    "\n",
    "##### Fast/Accurate Model \n",
    "Using the heuristically-labeled (<- weird way of phrasing that) training data to train a conditional random field (CRF) model for segmentation that identifies the boundaries of text that mentions an entity. \n",
    "\n",
    "The final step is assigning tags to the segmented mentions using an adapted perceptron algorithm (isn't that just a neural network?) for multi-class, multi-label classification. \n",
    "\n",
    "##### Evaluation\n",
    "Evaluation of the model takes two stages:\n",
    "1. Precision/accuracy of the tag assignment\n",
    "2. Do the tags actually have use beyond their assignment?\n",
    "\n",
    "### Python Implementation Example\n",
    "__Source:__ [Depends on the Definition Blog Post](https://www.depends-on-the-definition.com/introduction-named-entity-recognition-python/)<br>\n",
    "__Summary:__"
   ]
  },
  {
   "cell_type": "markdown",
   "metadata": {},
   "source": [
    "## A Basic Example - NER using NLTK and SpaCy\n",
    "\n",
    "In this example, I'll cover how to build a simple NER to recognize names - of persons, organizations, and locations - using two standard Python packages. "
   ]
  },
  {
   "cell_type": "code",
   "execution_count": 2,
   "metadata": {},
   "outputs": [],
   "source": [
    "import nltk\n",
    "from nltk.tokenize import word_tokenize\n",
    "from nltk.tag import pos_tag"
   ]
  },
  {
   "cell_type": "markdown",
   "metadata": {},
   "source": [
    "### Information Extraction \n",
    "Here, I'll take a short string from a NY Times headline today:"
   ]
  },
  {
   "cell_type": "code",
   "execution_count": 3,
   "metadata": {},
   "outputs": [],
   "source": [
    "example = 'A call to arms for Sri Lankan monks. Ethnic cleansing of the Rohingya in Myanmar. A Buddhist faith known for pacifism is taking its place in a new age of nationalism.'"
   ]
  },
  {
   "cell_type": "markdown",
   "metadata": {},
   "source": [
    "Then, I'll apply word tokenization and POS tagging to the sentence. This will return a __list of tuples containing the individual words in the sentence and their associated part-of-speech__. "
   ]
  },
  {
   "cell_type": "code",
   "execution_count": 4,
   "metadata": {},
   "outputs": [],
   "source": [
    "def preprocess(sentence):\n",
    "    s = nltk.word_tokenize(sentence)\n",
    "    s = nltk.pos_tag(s)\n",
    "    return s"
   ]
  },
  {
   "cell_type": "code",
   "execution_count": 5,
   "metadata": {},
   "outputs": [
    {
     "data": {
      "text/plain": [
       "[('A', 'DT'),\n",
       " ('call', 'NN'),\n",
       " ('to', 'TO'),\n",
       " ('arms', 'NNS'),\n",
       " ('for', 'IN'),\n",
       " ('Sri', 'NNP'),\n",
       " ('Lankan', 'NNP'),\n",
       " ('monks', 'NNS'),\n",
       " ('.', '.'),\n",
       " ('Ethnic', 'JJ'),\n",
       " ('cleansing', 'NN'),\n",
       " ('of', 'IN'),\n",
       " ('the', 'DT'),\n",
       " ('Rohingya', 'NNP'),\n",
       " ('in', 'IN'),\n",
       " ('Myanmar', 'NNP'),\n",
       " ('.', '.'),\n",
       " ('A', 'NNP'),\n",
       " ('Buddhist', 'NNP'),\n",
       " ('faith', 'NN'),\n",
       " ('known', 'VBN'),\n",
       " ('for', 'IN'),\n",
       " ('pacifism', 'NN'),\n",
       " ('is', 'VBZ'),\n",
       " ('taking', 'VBG'),\n",
       " ('its', 'PRP$'),\n",
       " ('place', 'NN'),\n",
       " ('in', 'IN'),\n",
       " ('a', 'DT'),\n",
       " ('new', 'JJ'),\n",
       " ('age', 'NN'),\n",
       " ('of', 'IN'),\n",
       " ('nationalism', 'NN'),\n",
       " ('.', '.')]"
      ]
     },
     "execution_count": 5,
     "metadata": {},
     "output_type": "execute_result"
    }
   ],
   "source": [
    "s = preprocess(example)\n",
    "s"
   ]
  },
  {
   "cell_type": "markdown",
   "metadata": {},
   "source": [
    "Now - I want to implement __noun phrase chunking__ to identify named entities using a RegEx consisting of rules that indicate how sentences should be chunked. \n",
    "\n",
    "Rule:\n",
    "\n",
    "My chunk pattern rule declares that a __noun phrase, NP, should be formed whenever the chunker finds an  _optional determiner_, or DT, followed by any number of (?) adjectives JJ, and then a (*) noun, NN.__"
   ]
  },
  {
   "cell_type": "code",
   "execution_count": 6,
   "metadata": {},
   "outputs": [],
   "source": [
    "pattern = 'NP: {<DT>?<JJ>*<NN>}'"
   ]
  },
  {
   "cell_type": "markdown",
   "metadata": {},
   "source": [
    "### Chunking\n",
    "\n",
    "Using the pattern variable I just declared above, I can create a chunk parser and test it on my sentence."
   ]
  },
  {
   "cell_type": "code",
   "execution_count": 7,
   "metadata": {},
   "outputs": [
    {
     "name": "stdout",
     "output_type": "stream",
     "text": [
      "chunk.RegexpParser with 1 stages:\n",
      "RegexpChunkParser with 1 rules:\n",
      "       <ChunkRule: '<DT>?<JJ>*<NN>'>\n"
     ]
    }
   ],
   "source": [
    "cp = nltk.RegexpParser(pattern)\n",
    "print(cp)"
   ]
  },
  {
   "cell_type": "code",
   "execution_count": 8,
   "metadata": {},
   "outputs": [
    {
     "name": "stdout",
     "output_type": "stream",
     "text": [
      "(S\n",
      "  (NP A/DT call/NN)\n",
      "  to/TO\n",
      "  arms/NNS\n",
      "  for/IN\n",
      "  Sri/NNP\n",
      "  Lankan/NNP\n",
      "  monks/NNS\n",
      "  ./.\n",
      "  (NP Ethnic/JJ cleansing/NN)\n",
      "  of/IN\n",
      "  the/DT\n",
      "  Rohingya/NNP\n",
      "  in/IN\n",
      "  Myanmar/NNP\n",
      "  ./.\n",
      "  A/NNP\n",
      "  Buddhist/NNP\n",
      "  (NP faith/NN)\n",
      "  known/VBN\n",
      "  for/IN\n",
      "  (NP pacifism/NN)\n",
      "  is/VBZ\n",
      "  taking/VBG\n",
      "  its/PRP$\n",
      "  (NP place/NN)\n",
      "  in/IN\n",
      "  (NP a/DT new/JJ age/NN)\n",
      "  of/IN\n",
      "  (NP nationalism/NN)\n",
      "  ./.)\n"
     ]
    }
   ],
   "source": [
    "cs = cp.parse(s)\n",
    "print(cs)"
   ]
  },
  {
   "cell_type": "markdown",
   "metadata": {},
   "source": [
    "__IOB Format__ = short for inside, outside, and beginning is a common tagging format for tagging tokens in a chunking task in NER. \n",
    "\n",
    "`tree2conlltags(t)` = returns a list of 3-tuples containing `(word, tag, IOB-tag)`. Arg1, t = the tree to be converted. In this case, it is the output of the parser from the previous cell. \n",
    "\n",
    "`pprint()` = data pretty printer, provides the capability to \"pretty-print\" arbitrary Python data structures in a form that can be used as input to the interpreter. \n",
    "\n",
    "Below, I use both print and pprint to display the contrast:"
   ]
  },
  {
   "cell_type": "code",
   "execution_count": 9,
   "metadata": {},
   "outputs": [
    {
     "name": "stdout",
     "output_type": "stream",
     "text": [
      "[('A', 'DT', 'B-NP'), ('call', 'NN', 'I-NP'), ('to', 'TO', 'O'), ('arms', 'NNS', 'O'), ('for', 'IN', 'O'), ('Sri', 'NNP', 'O'), ('Lankan', 'NNP', 'O'), ('monks', 'NNS', 'O'), ('.', '.', 'O'), ('Ethnic', 'JJ', 'B-NP'), ('cleansing', 'NN', 'I-NP'), ('of', 'IN', 'O'), ('the', 'DT', 'O'), ('Rohingya', 'NNP', 'O'), ('in', 'IN', 'O'), ('Myanmar', 'NNP', 'O'), ('.', '.', 'O'), ('A', 'NNP', 'O'), ('Buddhist', 'NNP', 'O'), ('faith', 'NN', 'B-NP'), ('known', 'VBN', 'O'), ('for', 'IN', 'O'), ('pacifism', 'NN', 'B-NP'), ('is', 'VBZ', 'O'), ('taking', 'VBG', 'O'), ('its', 'PRP$', 'O'), ('place', 'NN', 'B-NP'), ('in', 'IN', 'O'), ('a', 'DT', 'B-NP'), ('new', 'JJ', 'I-NP'), ('age', 'NN', 'I-NP'), ('of', 'IN', 'O'), ('nationalism', 'NN', 'B-NP'), ('.', '.', 'O')]\n",
      "[('A', 'DT', 'B-NP'),\n",
      " ('call', 'NN', 'I-NP'),\n",
      " ('to', 'TO', 'O'),\n",
      " ('arms', 'NNS', 'O'),\n",
      " ('for', 'IN', 'O'),\n",
      " ('Sri', 'NNP', 'O'),\n",
      " ('Lankan', 'NNP', 'O'),\n",
      " ('monks', 'NNS', 'O'),\n",
      " ('.', '.', 'O'),\n",
      " ('Ethnic', 'JJ', 'B-NP'),\n",
      " ('cleansing', 'NN', 'I-NP'),\n",
      " ('of', 'IN', 'O'),\n",
      " ('the', 'DT', 'O'),\n",
      " ('Rohingya', 'NNP', 'O'),\n",
      " ('in', 'IN', 'O'),\n",
      " ('Myanmar', 'NNP', 'O'),\n",
      " ('.', '.', 'O'),\n",
      " ('A', 'NNP', 'O'),\n",
      " ('Buddhist', 'NNP', 'O'),\n",
      " ('faith', 'NN', 'B-NP'),\n",
      " ('known', 'VBN', 'O'),\n",
      " ('for', 'IN', 'O'),\n",
      " ('pacifism', 'NN', 'B-NP'),\n",
      " ('is', 'VBZ', 'O'),\n",
      " ('taking', 'VBG', 'O'),\n",
      " ('its', 'PRP$', 'O'),\n",
      " ('place', 'NN', 'B-NP'),\n",
      " ('in', 'IN', 'O'),\n",
      " ('a', 'DT', 'B-NP'),\n",
      " ('new', 'JJ', 'I-NP'),\n",
      " ('age', 'NN', 'I-NP'),\n",
      " ('of', 'IN', 'O'),\n",
      " ('nationalism', 'NN', 'B-NP'),\n",
      " ('.', '.', 'O')]\n"
     ]
    }
   ],
   "source": [
    "from nltk.chunk import conlltags2tree, tree2conlltags\n",
    "from pprint import pprint\n",
    "\n",
    "iob_tagged = tree2conlltags(cs)\n",
    "print(iob_tagged)\n",
    "pprint(iob_tagged)"
   ]
  },
  {
   "cell_type": "markdown",
   "metadata": {},
   "source": [
    "In this representation, there is one token per line, each with its part-of-speech tag and its named entity tag. \n",
    "\n",
    "Based on this training sentence, I can construct a tagger that can be used to label new sentences; and use the `nltk.chunk.conlltags2tree()` function to convert the tag sequences into a chunk tree. \n",
    "\n",
    "With the function `nltk.ne_chunk()`, I can recognize named entities using a classifier, while the classifier adds category labels such as PERSON, ORGANIZATION, and GPE. "
   ]
  },
  {
   "cell_type": "code",
   "execution_count": 10,
   "metadata": {},
   "outputs": [
    {
     "name": "stdout",
     "output_type": "stream",
     "text": [
      "(S\n",
      "  A/DT\n",
      "  call/NN\n",
      "  to/TO\n",
      "  arms/NNS\n",
      "  for/IN\n",
      "  (PERSON Sri/NNP Lankan/NNP)\n",
      "  monks/NNS\n",
      "  ./.\n",
      "  Ethnic/JJ\n",
      "  cleansing/NN\n",
      "  of/IN\n",
      "  the/DT\n",
      "  (ORGANIZATION Rohingya/NNP)\n",
      "  in/IN\n",
      "  (GPE Myanmar/NNP)\n",
      "  ./.\n",
      "  A/NNP\n",
      "  Buddhist/NNP\n",
      "  faith/NN\n",
      "  known/VBN\n",
      "  for/IN\n",
      "  pacifism/NN\n",
      "  is/VBZ\n",
      "  taking/VBG\n",
      "  its/PRP$\n",
      "  place/NN\n",
      "  in/IN\n",
      "  a/DT\n",
      "  new/JJ\n",
      "  age/NN\n",
      "  of/IN\n",
      "  nationalism/NN\n",
      "  ./.)\n"
     ]
    }
   ],
   "source": [
    "ne_tree = nltk.ne_chunk(pos_tag(word_tokenize(example)))\n",
    "print(ne_tree)"
   ]
  },
  {
   "cell_type": "markdown",
   "metadata": {},
   "source": [
    "Notice how now there are identifiers for several words in the sentence (i.e. Sri Lankan is tagged as PERSON, Rohingya is tagged as ORGANIZATION, Myanmar as Geopolitical Entity or GPE, etc.) However, the quality is a bit poor - obviously Sri Lankans are a people, not a singular person. \n",
    "\n",
    "Now I'll use SpaCy to demonstrate its efficiency compared to NLTK. "
   ]
  },
  {
   "cell_type": "markdown",
   "metadata": {},
   "source": [
    "## SpaCy\n",
    "\n",
    "SpaCy's named entity recognition has been trained on the OntoNotes 5 corpus and supports several different entity types beyond the small three I placed above. \n",
    "\n",
    "I'll use the same sentence as before: \"A call to arms for Sri Lankan monks. Ethnic cleansing of the Rohingya in Myanmar. A Buddhist faith known for pacifism is taking its place in a new age of nationalism.\""
   ]
  },
  {
   "cell_type": "code",
   "execution_count": 11,
   "metadata": {},
   "outputs": [],
   "source": [
    "import spacy\n",
    "from spacy import displacy\n",
    "from collections import Counter\n",
    "nlp = spacy.load('en')"
   ]
  },
  {
   "cell_type": "code",
   "execution_count": 14,
   "metadata": {},
   "outputs": [
    {
     "name": "stdout",
     "output_type": "stream",
     "text": [
      "Federal Reserve Chairman Jerome Powell on Wednesday set the stage for the first U.S. interest rate cut in a decade later this month, pledging to ‘act as appropriate’ to defend an economic expansion threatened by trade disputes and a global slowdown.\n",
      "[('Federal Reserve', 'ORG'), ('Jerome Powell', 'PERSON'), ('Wednesday', 'DATE'), ('first', 'ORDINAL'), ('U.S.', 'GPE'), ('a decade later this month', 'DATE')]\n",
      "[('Federal Reserve', 'ORG'),\n",
      " ('Jerome Powell', 'PERSON'),\n",
      " ('Wednesday', 'DATE'),\n",
      " ('first', 'ORDINAL'),\n",
      " ('U.S.', 'GPE'),\n",
      " ('a decade later this month', 'DATE')]\n"
     ]
    }
   ],
   "source": [
    "doc = nlp('Federal Reserve Chairman Jerome Powell on Wednesday set the stage for the first U.S. interest rate cut in a decade later this month, pledging to ‘act as appropriate’ to defend an economic expansion threatened by trade disputes and a global slowdown.')\n",
    "print(doc)\n",
    "print(\n",
    "    [\n",
    "        (X.text, X.label_) for X in doc.ents\n",
    "    ]\n",
    ")\n",
    "pprint(\n",
    "    [\n",
    "        (X.text, X.label_) for X in doc.ents\n",
    "    ]\n",
    ")"
   ]
  },
  {
   "cell_type": "markdown",
   "metadata": {},
   "source": [
    "As I can see, even SpaCy has trouble identifying everything here. Sri Lankan and Rohingya should both be identified as 'NORP' instead of GPE and PERSON. Interestingly, NLTK's tagger - even thoughh it has poorer performance - had more accurate tags. Sri Lankan is more likely to be a PERSON and Rohingya an ORGANIZATION than what SpaCy put down. \n",
    "\n",
    "What if I want to further categorize the dataset? I can go a step further and demonstrate token-level entity annotation using theh BILUO (Beginning, In, Last, Unit, and Out) tagging schema to describe entity boundaries. \n",
    "\n",
    "What is BILUO?\n",
    "1. B = the first token of a multi-token entity\n",
    "2. I = the inner token of a multi-token entity\n",
    "3. L = the final token of a multi-token entity\n",
    "4. U = a single-token entity\n",
    "5. O = a non-entity token "
   ]
  },
  {
   "cell_type": "code",
   "execution_count": 15,
   "metadata": {},
   "outputs": [
    {
     "name": "stdout",
     "output_type": "stream",
     "text": [
      "[(Federal, 'B', 'ORG'),\n",
      " (Reserve, 'I', 'ORG'),\n",
      " (Chairman, 'O', ''),\n",
      " (Jerome, 'B', 'PERSON'),\n",
      " (Powell, 'I', 'PERSON'),\n",
      " (on, 'O', ''),\n",
      " (Wednesday, 'B', 'DATE'),\n",
      " (set, 'O', ''),\n",
      " (the, 'O', ''),\n",
      " (stage, 'O', ''),\n",
      " (for, 'O', ''),\n",
      " (the, 'O', ''),\n",
      " (first, 'B', 'ORDINAL'),\n",
      " (U.S., 'B', 'GPE'),\n",
      " (interest, 'O', ''),\n",
      " (rate, 'O', ''),\n",
      " (cut, 'O', ''),\n",
      " (in, 'O', ''),\n",
      " (a, 'B', 'DATE'),\n",
      " (decade, 'I', 'DATE'),\n",
      " (later, 'I', 'DATE'),\n",
      " (this, 'I', 'DATE'),\n",
      " (month, 'I', 'DATE'),\n",
      " (,, 'O', ''),\n",
      " (pledging, 'O', ''),\n",
      " (to, 'O', ''),\n",
      " (‘, 'O', ''),\n",
      " (act, 'O', ''),\n",
      " (as, 'O', ''),\n",
      " (appropriate, 'O', ''),\n",
      " (’, 'O', ''),\n",
      " (to, 'O', ''),\n",
      " (defend, 'O', ''),\n",
      " (an, 'O', ''),\n",
      " (economic, 'O', ''),\n",
      " (expansion, 'O', ''),\n",
      " (threatened, 'O', ''),\n",
      " (by, 'O', ''),\n",
      " (trade, 'O', ''),\n",
      " (disputes, 'O', ''),\n",
      " (and, 'O', ''),\n",
      " (a, 'O', ''),\n",
      " (global, 'O', ''),\n",
      " (slowdown, 'O', ''),\n",
      " (., 'O', '')]\n"
     ]
    }
   ],
   "source": [
    "pprint(\n",
    "    [\n",
    "        (X, X.ent_iob_, X.ent_type_) for X in doc\n",
    "    ]\n",
    ")"
   ]
  },
  {
   "cell_type": "code",
   "execution_count": 27,
   "metadata": {},
   "outputs": [
    {
     "data": {
      "text/html": [
       "<div class=\"entities\" style=\"line-height: 2.5; direction: ltr\">\n",
       "<mark class=\"entity\" style=\"background: #7aecec; padding: 0.45em 0.6em; margin: 0 0.25em; line-height: 1; border-radius: 0.35em; box-decoration-break: clone; -webkit-box-decoration-break: clone\">\n",
       "    Federal Reserve\n",
       "    <span style=\"font-size: 0.8em; font-weight: bold; line-height: 1; border-radius: 0.35em; text-transform: uppercase; vertical-align: middle; margin-left: 0.5rem\">ORG</span>\n",
       "</mark>\n",
       " Chairman \n",
       "<mark class=\"entity\" style=\"background: #aa9cfc; padding: 0.45em 0.6em; margin: 0 0.25em; line-height: 1; border-radius: 0.35em; box-decoration-break: clone; -webkit-box-decoration-break: clone\">\n",
       "    Jerome Powell\n",
       "    <span style=\"font-size: 0.8em; font-weight: bold; line-height: 1; border-radius: 0.35em; text-transform: uppercase; vertical-align: middle; margin-left: 0.5rem\">PERSON</span>\n",
       "</mark>\n",
       " on \n",
       "<mark class=\"entity\" style=\"background: #bfe1d9; padding: 0.45em 0.6em; margin: 0 0.25em; line-height: 1; border-radius: 0.35em; box-decoration-break: clone; -webkit-box-decoration-break: clone\">\n",
       "    Wednesday\n",
       "    <span style=\"font-size: 0.8em; font-weight: bold; line-height: 1; border-radius: 0.35em; text-transform: uppercase; vertical-align: middle; margin-left: 0.5rem\">DATE</span>\n",
       "</mark>\n",
       " set the stage for the \n",
       "<mark class=\"entity\" style=\"background: #e4e7d2; padding: 0.45em 0.6em; margin: 0 0.25em; line-height: 1; border-radius: 0.35em; box-decoration-break: clone; -webkit-box-decoration-break: clone\">\n",
       "    first\n",
       "    <span style=\"font-size: 0.8em; font-weight: bold; line-height: 1; border-radius: 0.35em; text-transform: uppercase; vertical-align: middle; margin-left: 0.5rem\">ORDINAL</span>\n",
       "</mark>\n",
       " \n",
       "<mark class=\"entity\" style=\"background: #feca74; padding: 0.45em 0.6em; margin: 0 0.25em; line-height: 1; border-radius: 0.35em; box-decoration-break: clone; -webkit-box-decoration-break: clone\">\n",
       "    U.S.\n",
       "    <span style=\"font-size: 0.8em; font-weight: bold; line-height: 1; border-radius: 0.35em; text-transform: uppercase; vertical-align: middle; margin-left: 0.5rem\">GPE</span>\n",
       "</mark>\n",
       " interest rate cut in \n",
       "<mark class=\"entity\" style=\"background: #bfe1d9; padding: 0.45em 0.6em; margin: 0 0.25em; line-height: 1; border-radius: 0.35em; box-decoration-break: clone; -webkit-box-decoration-break: clone\">\n",
       "    a decade later this month\n",
       "    <span style=\"font-size: 0.8em; font-weight: bold; line-height: 1; border-radius: 0.35em; text-transform: uppercase; vertical-align: middle; margin-left: 0.5rem\">DATE</span>\n",
       "</mark>\n",
       ", pledging to ‘act as appropriate’ to defend an economic expansion threatened by trade disputes and a global slowdown.</div>"
      ],
      "text/plain": [
       "<IPython.core.display.HTML object>"
      ]
     },
     "metadata": {},
     "output_type": "display_data"
    }
   ],
   "source": [
    "displacy.render(nlp(str(doc)), \n",
    "                jupyter=True, \n",
    "                style=\"ent\")  "
   ]
  },
  {
   "cell_type": "markdown",
   "metadata": {},
   "source": [
    "## Extracting Named Entities from Web Articles using Beautiful Soup\n",
    "\n",
    "So far, this has all been pretty simplistic. I want to actually get some decent information from an online article, so I'll use Beautiful Soup and requests to get ahold of the data for an NYT article and analyze it. \n",
    "\n",
    "__Quick overview of helper modules__:\n",
    "`requests` is a module that allows me to deal with HTTP requests in a more elegant manner than using Python's built-in `urllib`\n",
    "\n",
    "__Notes on Formatting Python Print statements__:\n",
    "`%s` = tells the command to convert to string \n",
    "`%f` = converts to floating point in fixed-decimal notation\n",
    "`%c` = converts to a single character"
   ]
  },
  {
   "cell_type": "code",
   "execution_count": 16,
   "metadata": {},
   "outputs": [],
   "source": [
    "from bs4 import BeautifulSoup\n",
    "import requests\n",
    "import re"
   ]
  },
  {
   "cell_type": "code",
   "execution_count": 17,
   "metadata": {},
   "outputs": [],
   "source": [
    "def url_to_string(url):\n",
    "    res = requests.get(url)\n",
    "    html = res.text\n",
    "    soup = BeautifulSoup(html, 'lxml')\n",
    "    for script in soup(\n",
    "        [\n",
    "            \"script\", \"style\", \"aside\"\n",
    "        ]\n",
    "    ):\n",
    "        script.extract()\n",
    "    return \" \".join(re.split(r'[\\n\\t]+',\n",
    "                             soup.get_text()))"
   ]
  },
  {
   "cell_type": "code",
   "execution_count": 18,
   "metadata": {},
   "outputs": [
    {
     "name": "stdout",
     "output_type": "stream",
     "text": [
      "There are 180 entities in the article\n"
     ]
    }
   ],
   "source": [
    "ny_bb = url_to_string('https://www.nytimes.com/2019/07/09/us/politics/amy-mcgrath-mitch-mcconnell.html?action=click&module=Top%20Stories&pgtype=Homepage')\n",
    "article = nlp(ny_bb)\n",
    "print('There are %s entities in the article' % len(article.ents))\n",
    "\n"
   ]
  },
  {
   "cell_type": "code",
   "execution_count": 19,
   "metadata": {},
   "outputs": [
    {
     "data": {
      "text/plain": [
       "Counter({'PERSON': 56,\n",
       "         'GPE': 19,\n",
       "         'ORG': 32,\n",
       "         'TIME': 3,\n",
       "         'DATE': 22,\n",
       "         'NORP': 25,\n",
       "         'ORDINAL': 2,\n",
       "         'MONEY': 4,\n",
       "         'CARDINAL': 11,\n",
       "         'PERCENT': 1,\n",
       "         'EVENT': 1,\n",
       "         'LAW': 1,\n",
       "         'LOC': 1,\n",
       "         'FAC': 1,\n",
       "         'WORK_OF_ART': 1})"
      ]
     },
     "execution_count": 19,
     "metadata": {},
     "output_type": "execute_result"
    }
   ],
   "source": [
    "labels = [x.label_ for x in article.ents]\n",
    "Counter(labels)"
   ]
  },
  {
   "cell_type": "code",
   "execution_count": 20,
   "metadata": {},
   "outputs": [
    {
     "data": {
      "text/plain": [
       "[('McConnell', 14), ('McGrath', 10), ('Democrats', 9)]"
      ]
     },
     "execution_count": 20,
     "metadata": {},
     "output_type": "execute_result"
    }
   ],
   "source": [
    "# this tells me the three most frequent tokens\n",
    "items = [x.text for x in article.ents]\n",
    "Counter(items).most_common(3)"
   ]
  },
  {
   "cell_type": "code",
   "execution_count": 21,
   "metadata": {},
   "outputs": [
    {
     "data": {
      "text/plain": [
       "84"
      ]
     },
     "execution_count": 21,
     "metadata": {},
     "output_type": "execute_result"
    }
   ],
   "source": [
    "# I'll randomly select a sentence to learn more\n",
    "sentences = [x for x in article.sents]\n",
    "len(sentences)"
   ]
  },
  {
   "cell_type": "code",
   "execution_count": 24,
   "metadata": {},
   "outputs": [
    {
     "name": "stdout",
     "output_type": "stream",
     "text": [
      "[ Amy McGrath Opens Campaign to Oust Mitch McConnell in Kentucky, - The New York Times SectionsSEARCHSkip to contentSkip to site indexPoliticsLog, InSubscribeLog InToday’s, PaperPolitics|Amy McGrath Opens Campaign to Oust Mitch McConnell in KentuckyAdvertisementSupported byAmy McGrath Opens Campaign to Oust Mitch McConnell in KentuckyImageAmy McGrath on election night in November., She lost her bid for a House seat last year and is now seeking to challenge Senator Mitch McConnell of Kentucky., CreditCreditMaddie McGarvey for The New York TimesBy Jennifer SteinhauerJuly 9, 2019WASHINGTON — Amy McGrath, a retired Marine lieutenant colonel and combat pilot whose star power in the Democratic Party in 2018 failed to capture her a House seat in Kentucky, announced Tuesday that she would seek to challenge Senator Mitch McConnell, the Republican majority leader, in 2020.Ms., McGrath, 44, made her intentions known with a dark video denouncing Mr. McConnell, 77, who was first elected to the Senate in 1984 and has served as the central ballast for President Trump in Washington.[Update: Amy McGrath raises $2.5 million in 24 hours.]“Everything that’s, wrong in Washington had to start someplace,” Ms. McGrath said in the video., “, It started with this man who was elected a lifetime ago, and who has, bit by bit, year by year, turned Washington into something we all despise.”I’m running to replace Mitch McConnell in the U.S. Senate., Everything that’s wrong with Washington had to start somewhere, —, it started with him., With your help, we can defeat Mitch and defend democracy., Join us: https://t.co/c4b0WAp4ji pic.twitter.com, /DNLjFkHGua— Amy McGrath (@AmyMcGrathKY) July 9, 2019, She also reprised a story she used in her 2018 campaign against Representative Andy Barr, recounting that as a young woman she wrote to Mr. McConnell, “telling him I wanted to fly fighter jets in combat, to fight for my country, and that women should be able to do that,” and noting that he never wrote back.[Make sense of the people, issues and ideas shaping American politics with our newsletter.]“The same reasons I decided to run in 2018 are still there,” Ms. McGrath said in an interview Tuesday afternoon., “, My childhood dream was never to be a politician,” she said, but she and her husband “kind of looked at each other said we need better leaders in this, country.”Mr., McConnell is in some ways as loathed by Democrats as Mr. Trump., And he has arguably been more effective, maintaining a stronghold over the nation, ’s judiciary and largely refusing to cooperate with Democrats on major legislation., In light of that, Ms. McGrath has adopted an unusual strategy for a Democrat: She is blaming Mr. McConnell for blocking legislation and cultural changes in Washington sought by Mr. Trump.“Kentuckians voted for Donald Trump because they wanted to drain the swamp and lower prescription drug prices,” she said., “, A lot of what has stood in the way of what Donald Trump promised is Senator McConnell.”Mr., Trump commented on Ms. McGrath’s entry into the race Tuesday evening, writing on Twitter, “Why would Kentucky ever think of giving up the most powerful position in Congress, the Senate Majority Leader, for a freshman Senator with little power in what will hopefully be the minority party.”Mr., McConnell’s re-election team had been anticipating Ms. McGrath’s announcement for months., On Tuesday, he responded with his own video that highlighted her support for priorities like abortion rights and a single-payer health care system — positions Mr. McConnell believes will be unpopular in Kentucky.“Amy McGrath lost her only race in a Democratic wave election because she is an extreme liberal who is far out of touch with Kentuckians,” Kevin Golden, Mr. McConnell’s campaign manager, said in a statement., He said Ms. McGrath would have “a heckuva platform that we will be delighted to discuss over the next 16 months.”Ms., McGrath’s decision to take on Mr. McConnell in a state that is generally not propitious for Democrats reflects the party’s enduring faith in military veterans, whose career paths and inspiring back stories can help blunt associations with its more liberal proclivities, and who also tend to be fund-raising juggernauts., In the first three months of 2019, among the 28 freshman House Democrats who raised more than $400,000, several were veterans, including Representative Max Rose, Democrat of New York, who raised a head-turning $800,000.When asked if her race would be expensive, Ms. McGrath said, somewhat forlornly, “I imagine it will., ”, But she added: “, Ninety percent of my donations in the last race were $50 or less., The vet who is handing me $20 is not handing me draft legislation along with it.”But, no matter how much money Ms. McGrath may raise from Democrats across the country eager to dispatch Mr. McConnell, she will still face a formidable challenge., Mr., McConnell, Kentucky’s longest serving senator, is “one of the most powerful political machines that’s ever existed,” said Jon Soltz, an Iraq War veteran and co-founder of VoteVets.org, a liberal political action committee that supports veterans running for office.“It takes someone with a compelling, nonpolitical profile to break through that,” Mr. Soltz said., “, When you talk about Amy McGrath, you’re talking about someone who has the credibility, with her profile, to reach people outside the Democratic base, independents, even Republicans., That’s what will break the McConnell machine.”Among the 67 new Democrats in Congress, 10 served in the military or intelligence agencies and were instrumental in returning control of the House to Democrats., The group has formed a tight bond in the 116th Congress., Many of those members, especially the women, campaigned with Ms. McGrath and are eager to see her run.“I’m excited to support my friend Amy McGrath,” said Representative Abigail Spanberger of Virginia, a former Central Intelligence Agency operations officer who last year eked out a victory against a Republican incumbent., “, Her race to defeat Senate majority leader McConnell should matter to any American, regardless of party, who wants to see us get stuff done in Washington for the American people.”Other candidates may file to run as Democrats in Kentucky next year, but Ms. McGrath is the only prominent potential nominee., She put up a stronger fight against Mr. Barr than he had faced in recent elections, losing by about three percentage points., And there are certainly no givens in American politics, especially for incumbents like Mr. McConnell who are associated with Washington’s enduring dysfunction., Still, Kentucky remains tough terrain for Democrats, and may be more so with Mr. Trump, who remains largely popular in the state, at the top of the ticket., In 2014, Alison Lundergan Grimes, a Democrat who hoped to capitalize on Mr. McConnell’s lack of popularity nationwide, failed to topple him, winning just nine out of 120 counties., Ms., McGrath said she had learned a great deal from her unsuccessful House campaign., “, This is a different race,” she said., “, Folks don’t always win the first time they run.”A, version of this article appears in print on , Section A, Page 22 of the New York edition with the headline: Marine Pilot, Begins Bid, To Oppose  , McConnell., Order Reprints |, Today’s Paper | SubscribeRelated CoverageAmy McGrath, a Soaring Democratic Candidate, Is Brought Back to Earth on Election DayNov., 7, 2018ImageAndy, Barr Defeats Amy McGrath in Kentucky House Race, Buoying Republican HopesNov., 6, 2018ImageAmy, McGrath Is Avoiding Attack Ads., Can a Congressional Candidate Win Without Them?Oct., 10, 2018ImageShow, AllAdvertisementSite IndexGo to, Home Page »newshome, pageworldU.S.politicsElection, 2020New, Yorkbusinesstechscienceclimatesportsobituariesthe upshottoday's papercorrectionsopiniontoday's opinionop-ed columnistseditorialsop-ed Contributorsletterssunday reviewvideo: opinionartstoday's artsart & designbooksdancemoviesmusicPop Culturetelevisiontheaterwatchingvideo:, artslivingautomobilesCookingcrosswordeducationfoodhealthjobsmagazineparentingreal estatestylet magazinetravellovelistings & moreReader CenterWirecutterLive EventsThe Learning Networktools & servicesN.Y.C., events guidemultimediaphotographyvideoNewslettersNYT, storetimes, journeysmanage my accountnewshome pageworldU.S.politicsElection, 2020New, Yorkbusinesstechscienceclimatesportsobituariesthe upshottoday's papercorrectionsopiniontoday's opinionop-ed columnistseditorialsop-ed Contributorsletterssunday reviewvideo: opinionartstoday's artsart & designbooksdancemoviesmusicPop Culturetelevisiontheaterwatchingvideo:, artslivingautomobilesCookingcrosswordeducationfoodhealthjobsmagazineparentingreal estatestylet magazinetravellovemoreReader CenterWirecutterLive EventsThe Learning Networktools & servicesN.Y.C. events guidemultimediaphotographyvideoNewslettersNYT, storetimes journeysmanage my accountSubscribehome deliverydigital subscriptionsCrosswordCookingemail newsletterscorporate subscriptionseducation ratemobile applicationsreplica, editionSite Information Navigation© 2019 , The New York Times CompanyContact UsWork with usAdvertiseYour Ad ChoicesPrivacyTerms of ServiceTerms of SaleSite MapHelpHelpSubscriptions]\n"
     ]
    }
   ],
   "source": [
    "import random\n",
    "rint = random.randint(0, 30)\n",
    "print(sentences[rint])"
   ]
  },
  {
   "cell_type": "markdown",
   "metadata": {},
   "source": [
    "One of the cooler aspects of SpaCy is its ability to render an informative visualization of what's going on. Notice that the parameter `jupyter=Bool` is set to True - this kind of illustration might only work in a web format. "
   ]
  },
  {
   "cell_type": "code",
   "execution_count": 23,
   "metadata": {},
   "outputs": [
    {
     "name": "stderr",
     "output_type": "stream",
     "text": [
      "/Users/noahcg/anaconda3/envs/default/lib/python3.6/runpy.py:193: UserWarning: [W006] No entities to visualize found in Doc object. If this is surprising to you, make sure the Doc was processed using a model that supports named entity recognition, and check the `doc.ents` property manually if necessary.\n",
      "  \"__main__\", mod_spec)\n"
     ]
    },
    {
     "data": {
      "text/html": [
       "<div class=\"entities\" style=\"line-height: 2.5; direction: ltr\">My childhood dream was never to be a politician,” she said, but she and her husband “kind of looked at each other said we need better leaders in this</div>"
      ],
      "text/plain": [
       "<IPython.core.display.HTML object>"
      ]
     },
     "metadata": {},
     "output_type": "display_data"
    }
   ],
   "source": [
    "# now I'll run displacy.render to generate raw markup\n",
    "displacy.render(nlp(str(sentences[rint])), \n",
    "                jupyter=True, \n",
    "                style='ent')"
   ]
  },
  {
   "cell_type": "code",
   "execution_count": 59,
   "metadata": {},
   "outputs": [
    {
     "data": {
      "text/html": [
       "<svg xmlns=\"http://www.w3.org/2000/svg\" xmlns:xlink=\"http://www.w3.org/1999/xlink\" xml:lang=\"en\" id=\"e20d693ec622409b8006c58e3bab2fde-0\" class=\"displacy\" width=\"3170\" height=\"377.0\" direction=\"ltr\" style=\"max-width: none; height: 377.0px; color: white; background: #571D45; font-family: Arial; direction: ltr\">\n",
       "<text class=\"displacy-token\" fill=\"currentColor\" text-anchor=\"middle\" y=\"287.0\">\n",
       "    <tspan class=\"displacy-word\" fill=\"currentColor\" x=\"50\">She</tspan>\n",
       "    <tspan class=\"displacy-tag\" dy=\"2em\" fill=\"currentColor\" x=\"50\">PRON</tspan>\n",
       "</text>\n",
       "\n",
       "<text class=\"displacy-token\" fill=\"currentColor\" text-anchor=\"middle\" y=\"287.0\">\n",
       "    <tspan class=\"displacy-word\" fill=\"currentColor\" x=\"170\">also</tspan>\n",
       "    <tspan class=\"displacy-tag\" dy=\"2em\" fill=\"currentColor\" x=\"170\">ADV</tspan>\n",
       "</text>\n",
       "\n",
       "<text class=\"displacy-token\" fill=\"currentColor\" text-anchor=\"middle\" y=\"287.0\">\n",
       "    <tspan class=\"displacy-word\" fill=\"currentColor\" x=\"290\">reprised</tspan>\n",
       "    <tspan class=\"displacy-tag\" dy=\"2em\" fill=\"currentColor\" x=\"290\">VERB</tspan>\n",
       "</text>\n",
       "\n",
       "<text class=\"displacy-token\" fill=\"currentColor\" text-anchor=\"middle\" y=\"287.0\">\n",
       "    <tspan class=\"displacy-word\" fill=\"currentColor\" x=\"410\">a</tspan>\n",
       "    <tspan class=\"displacy-tag\" dy=\"2em\" fill=\"currentColor\" x=\"410\">DET</tspan>\n",
       "</text>\n",
       "\n",
       "<text class=\"displacy-token\" fill=\"currentColor\" text-anchor=\"middle\" y=\"287.0\">\n",
       "    <tspan class=\"displacy-word\" fill=\"currentColor\" x=\"530\">story</tspan>\n",
       "    <tspan class=\"displacy-tag\" dy=\"2em\" fill=\"currentColor\" x=\"530\">NOUN</tspan>\n",
       "</text>\n",
       "\n",
       "<text class=\"displacy-token\" fill=\"currentColor\" text-anchor=\"middle\" y=\"287.0\">\n",
       "    <tspan class=\"displacy-word\" fill=\"currentColor\" x=\"650\">she</tspan>\n",
       "    <tspan class=\"displacy-tag\" dy=\"2em\" fill=\"currentColor\" x=\"650\">PRON</tspan>\n",
       "</text>\n",
       "\n",
       "<text class=\"displacy-token\" fill=\"currentColor\" text-anchor=\"middle\" y=\"287.0\">\n",
       "    <tspan class=\"displacy-word\" fill=\"currentColor\" x=\"770\">used</tspan>\n",
       "    <tspan class=\"displacy-tag\" dy=\"2em\" fill=\"currentColor\" x=\"770\">VERB</tspan>\n",
       "</text>\n",
       "\n",
       "<text class=\"displacy-token\" fill=\"currentColor\" text-anchor=\"middle\" y=\"287.0\">\n",
       "    <tspan class=\"displacy-word\" fill=\"currentColor\" x=\"890\">in</tspan>\n",
       "    <tspan class=\"displacy-tag\" dy=\"2em\" fill=\"currentColor\" x=\"890\">ADP</tspan>\n",
       "</text>\n",
       "\n",
       "<text class=\"displacy-token\" fill=\"currentColor\" text-anchor=\"middle\" y=\"287.0\">\n",
       "    <tspan class=\"displacy-word\" fill=\"currentColor\" x=\"1010\">her</tspan>\n",
       "    <tspan class=\"displacy-tag\" dy=\"2em\" fill=\"currentColor\" x=\"1010\">DET</tspan>\n",
       "</text>\n",
       "\n",
       "<text class=\"displacy-token\" fill=\"currentColor\" text-anchor=\"middle\" y=\"287.0\">\n",
       "    <tspan class=\"displacy-word\" fill=\"currentColor\" x=\"1130\">2018</tspan>\n",
       "    <tspan class=\"displacy-tag\" dy=\"2em\" fill=\"currentColor\" x=\"1130\">NUM</tspan>\n",
       "</text>\n",
       "\n",
       "<text class=\"displacy-token\" fill=\"currentColor\" text-anchor=\"middle\" y=\"287.0\">\n",
       "    <tspan class=\"displacy-word\" fill=\"currentColor\" x=\"1250\">campaign</tspan>\n",
       "    <tspan class=\"displacy-tag\" dy=\"2em\" fill=\"currentColor\" x=\"1250\">NOUN</tspan>\n",
       "</text>\n",
       "\n",
       "<text class=\"displacy-token\" fill=\"currentColor\" text-anchor=\"middle\" y=\"287.0\">\n",
       "    <tspan class=\"displacy-word\" fill=\"currentColor\" x=\"1370\">against</tspan>\n",
       "    <tspan class=\"displacy-tag\" dy=\"2em\" fill=\"currentColor\" x=\"1370\">ADP</tspan>\n",
       "</text>\n",
       "\n",
       "<text class=\"displacy-token\" fill=\"currentColor\" text-anchor=\"middle\" y=\"287.0\">\n",
       "    <tspan class=\"displacy-word\" fill=\"currentColor\" x=\"1490\">Representative</tspan>\n",
       "    <tspan class=\"displacy-tag\" dy=\"2em\" fill=\"currentColor\" x=\"1490\">PROPN</tspan>\n",
       "</text>\n",
       "\n",
       "<text class=\"displacy-token\" fill=\"currentColor\" text-anchor=\"middle\" y=\"287.0\">\n",
       "    <tspan class=\"displacy-word\" fill=\"currentColor\" x=\"1610\">Andy</tspan>\n",
       "    <tspan class=\"displacy-tag\" dy=\"2em\" fill=\"currentColor\" x=\"1610\">PROPN</tspan>\n",
       "</text>\n",
       "\n",
       "<text class=\"displacy-token\" fill=\"currentColor\" text-anchor=\"middle\" y=\"287.0\">\n",
       "    <tspan class=\"displacy-word\" fill=\"currentColor\" x=\"1730\">Barr,</tspan>\n",
       "    <tspan class=\"displacy-tag\" dy=\"2em\" fill=\"currentColor\" x=\"1730\">PROPN</tspan>\n",
       "</text>\n",
       "\n",
       "<text class=\"displacy-token\" fill=\"currentColor\" text-anchor=\"middle\" y=\"287.0\">\n",
       "    <tspan class=\"displacy-word\" fill=\"currentColor\" x=\"1850\">recounting</tspan>\n",
       "    <tspan class=\"displacy-tag\" dy=\"2em\" fill=\"currentColor\" x=\"1850\">VERB</tspan>\n",
       "</text>\n",
       "\n",
       "<text class=\"displacy-token\" fill=\"currentColor\" text-anchor=\"middle\" y=\"287.0\">\n",
       "    <tspan class=\"displacy-word\" fill=\"currentColor\" x=\"1970\">that</tspan>\n",
       "    <tspan class=\"displacy-tag\" dy=\"2em\" fill=\"currentColor\" x=\"1970\">ADP</tspan>\n",
       "</text>\n",
       "\n",
       "<text class=\"displacy-token\" fill=\"currentColor\" text-anchor=\"middle\" y=\"287.0\">\n",
       "    <tspan class=\"displacy-word\" fill=\"currentColor\" x=\"2090\">as</tspan>\n",
       "    <tspan class=\"displacy-tag\" dy=\"2em\" fill=\"currentColor\" x=\"2090\">ADP</tspan>\n",
       "</text>\n",
       "\n",
       "<text class=\"displacy-token\" fill=\"currentColor\" text-anchor=\"middle\" y=\"287.0\">\n",
       "    <tspan class=\"displacy-word\" fill=\"currentColor\" x=\"2210\">a</tspan>\n",
       "    <tspan class=\"displacy-tag\" dy=\"2em\" fill=\"currentColor\" x=\"2210\">DET</tspan>\n",
       "</text>\n",
       "\n",
       "<text class=\"displacy-token\" fill=\"currentColor\" text-anchor=\"middle\" y=\"287.0\">\n",
       "    <tspan class=\"displacy-word\" fill=\"currentColor\" x=\"2330\">young</tspan>\n",
       "    <tspan class=\"displacy-tag\" dy=\"2em\" fill=\"currentColor\" x=\"2330\">ADJ</tspan>\n",
       "</text>\n",
       "\n",
       "<text class=\"displacy-token\" fill=\"currentColor\" text-anchor=\"middle\" y=\"287.0\">\n",
       "    <tspan class=\"displacy-word\" fill=\"currentColor\" x=\"2450\">woman</tspan>\n",
       "    <tspan class=\"displacy-tag\" dy=\"2em\" fill=\"currentColor\" x=\"2450\">NOUN</tspan>\n",
       "</text>\n",
       "\n",
       "<text class=\"displacy-token\" fill=\"currentColor\" text-anchor=\"middle\" y=\"287.0\">\n",
       "    <tspan class=\"displacy-word\" fill=\"currentColor\" x=\"2570\">she</tspan>\n",
       "    <tspan class=\"displacy-tag\" dy=\"2em\" fill=\"currentColor\" x=\"2570\">PRON</tspan>\n",
       "</text>\n",
       "\n",
       "<text class=\"displacy-token\" fill=\"currentColor\" text-anchor=\"middle\" y=\"287.0\">\n",
       "    <tspan class=\"displacy-word\" fill=\"currentColor\" x=\"2690\">wrote</tspan>\n",
       "    <tspan class=\"displacy-tag\" dy=\"2em\" fill=\"currentColor\" x=\"2690\">VERB</tspan>\n",
       "</text>\n",
       "\n",
       "<text class=\"displacy-token\" fill=\"currentColor\" text-anchor=\"middle\" y=\"287.0\">\n",
       "    <tspan class=\"displacy-word\" fill=\"currentColor\" x=\"2810\">to</tspan>\n",
       "    <tspan class=\"displacy-tag\" dy=\"2em\" fill=\"currentColor\" x=\"2810\">ADP</tspan>\n",
       "</text>\n",
       "\n",
       "<text class=\"displacy-token\" fill=\"currentColor\" text-anchor=\"middle\" y=\"287.0\">\n",
       "    <tspan class=\"displacy-word\" fill=\"currentColor\" x=\"2930\">Mr.</tspan>\n",
       "    <tspan class=\"displacy-tag\" dy=\"2em\" fill=\"currentColor\" x=\"2930\">PROPN</tspan>\n",
       "</text>\n",
       "\n",
       "<text class=\"displacy-token\" fill=\"currentColor\" text-anchor=\"middle\" y=\"287.0\">\n",
       "    <tspan class=\"displacy-word\" fill=\"currentColor\" x=\"3050\">McConnell</tspan>\n",
       "    <tspan class=\"displacy-tag\" dy=\"2em\" fill=\"currentColor\" x=\"3050\">PROPN</tspan>\n",
       "</text>\n",
       "\n",
       "<g class=\"displacy-arrow\">\n",
       "    <path class=\"displacy-arc\" id=\"arrow-e20d693ec622409b8006c58e3bab2fde-0-0\" stroke-width=\"2px\" d=\"M70,242.0 C70,122.0 280.0,122.0 280.0,242.0\" fill=\"none\" stroke=\"currentColor\"/>\n",
       "    <text dy=\"1.25em\" style=\"font-size: 0.8em; letter-spacing: 1px\">\n",
       "        <textPath xlink:href=\"#arrow-e20d693ec622409b8006c58e3bab2fde-0-0\" class=\"displacy-label\" startOffset=\"50%\" side=\"left\" fill=\"currentColor\" text-anchor=\"middle\">nsubj</textPath>\n",
       "    </text>\n",
       "    <path class=\"displacy-arrowhead\" d=\"M70,244.0 L62,232.0 78,232.0\" fill=\"currentColor\"/>\n",
       "</g>\n",
       "\n",
       "<g class=\"displacy-arrow\">\n",
       "    <path class=\"displacy-arc\" id=\"arrow-e20d693ec622409b8006c58e3bab2fde-0-1\" stroke-width=\"2px\" d=\"M190,242.0 C190,182.0 275.0,182.0 275.0,242.0\" fill=\"none\" stroke=\"currentColor\"/>\n",
       "    <text dy=\"1.25em\" style=\"font-size: 0.8em; letter-spacing: 1px\">\n",
       "        <textPath xlink:href=\"#arrow-e20d693ec622409b8006c58e3bab2fde-0-1\" class=\"displacy-label\" startOffset=\"50%\" side=\"left\" fill=\"currentColor\" text-anchor=\"middle\">advmod</textPath>\n",
       "    </text>\n",
       "    <path class=\"displacy-arrowhead\" d=\"M190,244.0 L182,232.0 198,232.0\" fill=\"currentColor\"/>\n",
       "</g>\n",
       "\n",
       "<g class=\"displacy-arrow\">\n",
       "    <path class=\"displacy-arc\" id=\"arrow-e20d693ec622409b8006c58e3bab2fde-0-2\" stroke-width=\"2px\" d=\"M430,242.0 C430,182.0 515.0,182.0 515.0,242.0\" fill=\"none\" stroke=\"currentColor\"/>\n",
       "    <text dy=\"1.25em\" style=\"font-size: 0.8em; letter-spacing: 1px\">\n",
       "        <textPath xlink:href=\"#arrow-e20d693ec622409b8006c58e3bab2fde-0-2\" class=\"displacy-label\" startOffset=\"50%\" side=\"left\" fill=\"currentColor\" text-anchor=\"middle\">det</textPath>\n",
       "    </text>\n",
       "    <path class=\"displacy-arrowhead\" d=\"M430,244.0 L422,232.0 438,232.0\" fill=\"currentColor\"/>\n",
       "</g>\n",
       "\n",
       "<g class=\"displacy-arrow\">\n",
       "    <path class=\"displacy-arc\" id=\"arrow-e20d693ec622409b8006c58e3bab2fde-0-3\" stroke-width=\"2px\" d=\"M310,242.0 C310,122.0 520.0,122.0 520.0,242.0\" fill=\"none\" stroke=\"currentColor\"/>\n",
       "    <text dy=\"1.25em\" style=\"font-size: 0.8em; letter-spacing: 1px\">\n",
       "        <textPath xlink:href=\"#arrow-e20d693ec622409b8006c58e3bab2fde-0-3\" class=\"displacy-label\" startOffset=\"50%\" side=\"left\" fill=\"currentColor\" text-anchor=\"middle\">dobj</textPath>\n",
       "    </text>\n",
       "    <path class=\"displacy-arrowhead\" d=\"M520.0,244.0 L528.0,232.0 512.0,232.0\" fill=\"currentColor\"/>\n",
       "</g>\n",
       "\n",
       "<g class=\"displacy-arrow\">\n",
       "    <path class=\"displacy-arc\" id=\"arrow-e20d693ec622409b8006c58e3bab2fde-0-4\" stroke-width=\"2px\" d=\"M670,242.0 C670,182.0 755.0,182.0 755.0,242.0\" fill=\"none\" stroke=\"currentColor\"/>\n",
       "    <text dy=\"1.25em\" style=\"font-size: 0.8em; letter-spacing: 1px\">\n",
       "        <textPath xlink:href=\"#arrow-e20d693ec622409b8006c58e3bab2fde-0-4\" class=\"displacy-label\" startOffset=\"50%\" side=\"left\" fill=\"currentColor\" text-anchor=\"middle\">nsubj</textPath>\n",
       "    </text>\n",
       "    <path class=\"displacy-arrowhead\" d=\"M670,244.0 L662,232.0 678,232.0\" fill=\"currentColor\"/>\n",
       "</g>\n",
       "\n",
       "<g class=\"displacy-arrow\">\n",
       "    <path class=\"displacy-arc\" id=\"arrow-e20d693ec622409b8006c58e3bab2fde-0-5\" stroke-width=\"2px\" d=\"M550,242.0 C550,122.0 760.0,122.0 760.0,242.0\" fill=\"none\" stroke=\"currentColor\"/>\n",
       "    <text dy=\"1.25em\" style=\"font-size: 0.8em; letter-spacing: 1px\">\n",
       "        <textPath xlink:href=\"#arrow-e20d693ec622409b8006c58e3bab2fde-0-5\" class=\"displacy-label\" startOffset=\"50%\" side=\"left\" fill=\"currentColor\" text-anchor=\"middle\">relcl</textPath>\n",
       "    </text>\n",
       "    <path class=\"displacy-arrowhead\" d=\"M760.0,244.0 L768.0,232.0 752.0,232.0\" fill=\"currentColor\"/>\n",
       "</g>\n",
       "\n",
       "<g class=\"displacy-arrow\">\n",
       "    <path class=\"displacy-arc\" id=\"arrow-e20d693ec622409b8006c58e3bab2fde-0-6\" stroke-width=\"2px\" d=\"M790,242.0 C790,182.0 875.0,182.0 875.0,242.0\" fill=\"none\" stroke=\"currentColor\"/>\n",
       "    <text dy=\"1.25em\" style=\"font-size: 0.8em; letter-spacing: 1px\">\n",
       "        <textPath xlink:href=\"#arrow-e20d693ec622409b8006c58e3bab2fde-0-6\" class=\"displacy-label\" startOffset=\"50%\" side=\"left\" fill=\"currentColor\" text-anchor=\"middle\">prep</textPath>\n",
       "    </text>\n",
       "    <path class=\"displacy-arrowhead\" d=\"M875.0,244.0 L883.0,232.0 867.0,232.0\" fill=\"currentColor\"/>\n",
       "</g>\n",
       "\n",
       "<g class=\"displacy-arrow\">\n",
       "    <path class=\"displacy-arc\" id=\"arrow-e20d693ec622409b8006c58e3bab2fde-0-7\" stroke-width=\"2px\" d=\"M1030,242.0 C1030,122.0 1240.0,122.0 1240.0,242.0\" fill=\"none\" stroke=\"currentColor\"/>\n",
       "    <text dy=\"1.25em\" style=\"font-size: 0.8em; letter-spacing: 1px\">\n",
       "        <textPath xlink:href=\"#arrow-e20d693ec622409b8006c58e3bab2fde-0-7\" class=\"displacy-label\" startOffset=\"50%\" side=\"left\" fill=\"currentColor\" text-anchor=\"middle\">poss</textPath>\n",
       "    </text>\n",
       "    <path class=\"displacy-arrowhead\" d=\"M1030,244.0 L1022,232.0 1038,232.0\" fill=\"currentColor\"/>\n",
       "</g>\n",
       "\n",
       "<g class=\"displacy-arrow\">\n",
       "    <path class=\"displacy-arc\" id=\"arrow-e20d693ec622409b8006c58e3bab2fde-0-8\" stroke-width=\"2px\" d=\"M1150,242.0 C1150,182.0 1235.0,182.0 1235.0,242.0\" fill=\"none\" stroke=\"currentColor\"/>\n",
       "    <text dy=\"1.25em\" style=\"font-size: 0.8em; letter-spacing: 1px\">\n",
       "        <textPath xlink:href=\"#arrow-e20d693ec622409b8006c58e3bab2fde-0-8\" class=\"displacy-label\" startOffset=\"50%\" side=\"left\" fill=\"currentColor\" text-anchor=\"middle\">nummod</textPath>\n",
       "    </text>\n",
       "    <path class=\"displacy-arrowhead\" d=\"M1150,244.0 L1142,232.0 1158,232.0\" fill=\"currentColor\"/>\n",
       "</g>\n",
       "\n",
       "<g class=\"displacy-arrow\">\n",
       "    <path class=\"displacy-arc\" id=\"arrow-e20d693ec622409b8006c58e3bab2fde-0-9\" stroke-width=\"2px\" d=\"M910,242.0 C910,62.0 1245.0,62.0 1245.0,242.0\" fill=\"none\" stroke=\"currentColor\"/>\n",
       "    <text dy=\"1.25em\" style=\"font-size: 0.8em; letter-spacing: 1px\">\n",
       "        <textPath xlink:href=\"#arrow-e20d693ec622409b8006c58e3bab2fde-0-9\" class=\"displacy-label\" startOffset=\"50%\" side=\"left\" fill=\"currentColor\" text-anchor=\"middle\">pobj</textPath>\n",
       "    </text>\n",
       "    <path class=\"displacy-arrowhead\" d=\"M1245.0,244.0 L1253.0,232.0 1237.0,232.0\" fill=\"currentColor\"/>\n",
       "</g>\n",
       "\n",
       "<g class=\"displacy-arrow\">\n",
       "    <path class=\"displacy-arc\" id=\"arrow-e20d693ec622409b8006c58e3bab2fde-0-10\" stroke-width=\"2px\" d=\"M1270,242.0 C1270,182.0 1355.0,182.0 1355.0,242.0\" fill=\"none\" stroke=\"currentColor\"/>\n",
       "    <text dy=\"1.25em\" style=\"font-size: 0.8em; letter-spacing: 1px\">\n",
       "        <textPath xlink:href=\"#arrow-e20d693ec622409b8006c58e3bab2fde-0-10\" class=\"displacy-label\" startOffset=\"50%\" side=\"left\" fill=\"currentColor\" text-anchor=\"middle\">prep</textPath>\n",
       "    </text>\n",
       "    <path class=\"displacy-arrowhead\" d=\"M1355.0,244.0 L1363.0,232.0 1347.0,232.0\" fill=\"currentColor\"/>\n",
       "</g>\n",
       "\n",
       "<g class=\"displacy-arrow\">\n",
       "    <path class=\"displacy-arc\" id=\"arrow-e20d693ec622409b8006c58e3bab2fde-0-11\" stroke-width=\"2px\" d=\"M1510,242.0 C1510,122.0 1720.0,122.0 1720.0,242.0\" fill=\"none\" stroke=\"currentColor\"/>\n",
       "    <text dy=\"1.25em\" style=\"font-size: 0.8em; letter-spacing: 1px\">\n",
       "        <textPath xlink:href=\"#arrow-e20d693ec622409b8006c58e3bab2fde-0-11\" class=\"displacy-label\" startOffset=\"50%\" side=\"left\" fill=\"currentColor\" text-anchor=\"middle\">compound</textPath>\n",
       "    </text>\n",
       "    <path class=\"displacy-arrowhead\" d=\"M1510,244.0 L1502,232.0 1518,232.0\" fill=\"currentColor\"/>\n",
       "</g>\n",
       "\n",
       "<g class=\"displacy-arrow\">\n",
       "    <path class=\"displacy-arc\" id=\"arrow-e20d693ec622409b8006c58e3bab2fde-0-12\" stroke-width=\"2px\" d=\"M1630,242.0 C1630,182.0 1715.0,182.0 1715.0,242.0\" fill=\"none\" stroke=\"currentColor\"/>\n",
       "    <text dy=\"1.25em\" style=\"font-size: 0.8em; letter-spacing: 1px\">\n",
       "        <textPath xlink:href=\"#arrow-e20d693ec622409b8006c58e3bab2fde-0-12\" class=\"displacy-label\" startOffset=\"50%\" side=\"left\" fill=\"currentColor\" text-anchor=\"middle\">compound</textPath>\n",
       "    </text>\n",
       "    <path class=\"displacy-arrowhead\" d=\"M1630,244.0 L1622,232.0 1638,232.0\" fill=\"currentColor\"/>\n",
       "</g>\n",
       "\n",
       "<g class=\"displacy-arrow\">\n",
       "    <path class=\"displacy-arc\" id=\"arrow-e20d693ec622409b8006c58e3bab2fde-0-13\" stroke-width=\"2px\" d=\"M1390,242.0 C1390,62.0 1725.0,62.0 1725.0,242.0\" fill=\"none\" stroke=\"currentColor\"/>\n",
       "    <text dy=\"1.25em\" style=\"font-size: 0.8em; letter-spacing: 1px\">\n",
       "        <textPath xlink:href=\"#arrow-e20d693ec622409b8006c58e3bab2fde-0-13\" class=\"displacy-label\" startOffset=\"50%\" side=\"left\" fill=\"currentColor\" text-anchor=\"middle\">pobj</textPath>\n",
       "    </text>\n",
       "    <path class=\"displacy-arrowhead\" d=\"M1725.0,244.0 L1733.0,232.0 1717.0,232.0\" fill=\"currentColor\"/>\n",
       "</g>\n",
       "\n",
       "<g class=\"displacy-arrow\">\n",
       "    <path class=\"displacy-arc\" id=\"arrow-e20d693ec622409b8006c58e3bab2fde-0-14\" stroke-width=\"2px\" d=\"M310,242.0 C310,2.0 1850.0,2.0 1850.0,242.0\" fill=\"none\" stroke=\"currentColor\"/>\n",
       "    <text dy=\"1.25em\" style=\"font-size: 0.8em; letter-spacing: 1px\">\n",
       "        <textPath xlink:href=\"#arrow-e20d693ec622409b8006c58e3bab2fde-0-14\" class=\"displacy-label\" startOffset=\"50%\" side=\"left\" fill=\"currentColor\" text-anchor=\"middle\">advcl</textPath>\n",
       "    </text>\n",
       "    <path class=\"displacy-arrowhead\" d=\"M1850.0,244.0 L1858.0,232.0 1842.0,232.0\" fill=\"currentColor\"/>\n",
       "</g>\n",
       "\n",
       "<g class=\"displacy-arrow\">\n",
       "    <path class=\"displacy-arc\" id=\"arrow-e20d693ec622409b8006c58e3bab2fde-0-15\" stroke-width=\"2px\" d=\"M1870,242.0 C1870,182.0 1955.0,182.0 1955.0,242.0\" fill=\"none\" stroke=\"currentColor\"/>\n",
       "    <text dy=\"1.25em\" style=\"font-size: 0.8em; letter-spacing: 1px\">\n",
       "        <textPath xlink:href=\"#arrow-e20d693ec622409b8006c58e3bab2fde-0-15\" class=\"displacy-label\" startOffset=\"50%\" side=\"left\" fill=\"currentColor\" text-anchor=\"middle\">dobj</textPath>\n",
       "    </text>\n",
       "    <path class=\"displacy-arrowhead\" d=\"M1955.0,244.0 L1963.0,232.0 1947.0,232.0\" fill=\"currentColor\"/>\n",
       "</g>\n",
       "\n",
       "<g class=\"displacy-arrow\">\n",
       "    <path class=\"displacy-arc\" id=\"arrow-e20d693ec622409b8006c58e3bab2fde-0-16\" stroke-width=\"2px\" d=\"M1870,242.0 C1870,122.0 2080.0,122.0 2080.0,242.0\" fill=\"none\" stroke=\"currentColor\"/>\n",
       "    <text dy=\"1.25em\" style=\"font-size: 0.8em; letter-spacing: 1px\">\n",
       "        <textPath xlink:href=\"#arrow-e20d693ec622409b8006c58e3bab2fde-0-16\" class=\"displacy-label\" startOffset=\"50%\" side=\"left\" fill=\"currentColor\" text-anchor=\"middle\">prep</textPath>\n",
       "    </text>\n",
       "    <path class=\"displacy-arrowhead\" d=\"M2080.0,244.0 L2088.0,232.0 2072.0,232.0\" fill=\"currentColor\"/>\n",
       "</g>\n",
       "\n",
       "<g class=\"displacy-arrow\">\n",
       "    <path class=\"displacy-arc\" id=\"arrow-e20d693ec622409b8006c58e3bab2fde-0-17\" stroke-width=\"2px\" d=\"M2230,242.0 C2230,122.0 2440.0,122.0 2440.0,242.0\" fill=\"none\" stroke=\"currentColor\"/>\n",
       "    <text dy=\"1.25em\" style=\"font-size: 0.8em; letter-spacing: 1px\">\n",
       "        <textPath xlink:href=\"#arrow-e20d693ec622409b8006c58e3bab2fde-0-17\" class=\"displacy-label\" startOffset=\"50%\" side=\"left\" fill=\"currentColor\" text-anchor=\"middle\">det</textPath>\n",
       "    </text>\n",
       "    <path class=\"displacy-arrowhead\" d=\"M2230,244.0 L2222,232.0 2238,232.0\" fill=\"currentColor\"/>\n",
       "</g>\n",
       "\n",
       "<g class=\"displacy-arrow\">\n",
       "    <path class=\"displacy-arc\" id=\"arrow-e20d693ec622409b8006c58e3bab2fde-0-18\" stroke-width=\"2px\" d=\"M2350,242.0 C2350,182.0 2435.0,182.0 2435.0,242.0\" fill=\"none\" stroke=\"currentColor\"/>\n",
       "    <text dy=\"1.25em\" style=\"font-size: 0.8em; letter-spacing: 1px\">\n",
       "        <textPath xlink:href=\"#arrow-e20d693ec622409b8006c58e3bab2fde-0-18\" class=\"displacy-label\" startOffset=\"50%\" side=\"left\" fill=\"currentColor\" text-anchor=\"middle\">amod</textPath>\n",
       "    </text>\n",
       "    <path class=\"displacy-arrowhead\" d=\"M2350,244.0 L2342,232.0 2358,232.0\" fill=\"currentColor\"/>\n",
       "</g>\n",
       "\n",
       "<g class=\"displacy-arrow\">\n",
       "    <path class=\"displacy-arc\" id=\"arrow-e20d693ec622409b8006c58e3bab2fde-0-19\" stroke-width=\"2px\" d=\"M2110,242.0 C2110,62.0 2445.0,62.0 2445.0,242.0\" fill=\"none\" stroke=\"currentColor\"/>\n",
       "    <text dy=\"1.25em\" style=\"font-size: 0.8em; letter-spacing: 1px\">\n",
       "        <textPath xlink:href=\"#arrow-e20d693ec622409b8006c58e3bab2fde-0-19\" class=\"displacy-label\" startOffset=\"50%\" side=\"left\" fill=\"currentColor\" text-anchor=\"middle\">pobj</textPath>\n",
       "    </text>\n",
       "    <path class=\"displacy-arrowhead\" d=\"M2445.0,244.0 L2453.0,232.0 2437.0,232.0\" fill=\"currentColor\"/>\n",
       "</g>\n",
       "\n",
       "<g class=\"displacy-arrow\">\n",
       "    <path class=\"displacy-arc\" id=\"arrow-e20d693ec622409b8006c58e3bab2fde-0-20\" stroke-width=\"2px\" d=\"M2590,242.0 C2590,182.0 2675.0,182.0 2675.0,242.0\" fill=\"none\" stroke=\"currentColor\"/>\n",
       "    <text dy=\"1.25em\" style=\"font-size: 0.8em; letter-spacing: 1px\">\n",
       "        <textPath xlink:href=\"#arrow-e20d693ec622409b8006c58e3bab2fde-0-20\" class=\"displacy-label\" startOffset=\"50%\" side=\"left\" fill=\"currentColor\" text-anchor=\"middle\">nsubj</textPath>\n",
       "    </text>\n",
       "    <path class=\"displacy-arrowhead\" d=\"M2590,244.0 L2582,232.0 2598,232.0\" fill=\"currentColor\"/>\n",
       "</g>\n",
       "\n",
       "<g class=\"displacy-arrow\">\n",
       "    <path class=\"displacy-arc\" id=\"arrow-e20d693ec622409b8006c58e3bab2fde-0-21\" stroke-width=\"2px\" d=\"M2470,242.0 C2470,122.0 2680.0,122.0 2680.0,242.0\" fill=\"none\" stroke=\"currentColor\"/>\n",
       "    <text dy=\"1.25em\" style=\"font-size: 0.8em; letter-spacing: 1px\">\n",
       "        <textPath xlink:href=\"#arrow-e20d693ec622409b8006c58e3bab2fde-0-21\" class=\"displacy-label\" startOffset=\"50%\" side=\"left\" fill=\"currentColor\" text-anchor=\"middle\">relcl</textPath>\n",
       "    </text>\n",
       "    <path class=\"displacy-arrowhead\" d=\"M2680.0,244.0 L2688.0,232.0 2672.0,232.0\" fill=\"currentColor\"/>\n",
       "</g>\n",
       "\n",
       "<g class=\"displacy-arrow\">\n",
       "    <path class=\"displacy-arc\" id=\"arrow-e20d693ec622409b8006c58e3bab2fde-0-22\" stroke-width=\"2px\" d=\"M2710,242.0 C2710,182.0 2795.0,182.0 2795.0,242.0\" fill=\"none\" stroke=\"currentColor\"/>\n",
       "    <text dy=\"1.25em\" style=\"font-size: 0.8em; letter-spacing: 1px\">\n",
       "        <textPath xlink:href=\"#arrow-e20d693ec622409b8006c58e3bab2fde-0-22\" class=\"displacy-label\" startOffset=\"50%\" side=\"left\" fill=\"currentColor\" text-anchor=\"middle\">dative</textPath>\n",
       "    </text>\n",
       "    <path class=\"displacy-arrowhead\" d=\"M2795.0,244.0 L2803.0,232.0 2787.0,232.0\" fill=\"currentColor\"/>\n",
       "</g>\n",
       "\n",
       "<g class=\"displacy-arrow\">\n",
       "    <path class=\"displacy-arc\" id=\"arrow-e20d693ec622409b8006c58e3bab2fde-0-23\" stroke-width=\"2px\" d=\"M2950,242.0 C2950,182.0 3035.0,182.0 3035.0,242.0\" fill=\"none\" stroke=\"currentColor\"/>\n",
       "    <text dy=\"1.25em\" style=\"font-size: 0.8em; letter-spacing: 1px\">\n",
       "        <textPath xlink:href=\"#arrow-e20d693ec622409b8006c58e3bab2fde-0-23\" class=\"displacy-label\" startOffset=\"50%\" side=\"left\" fill=\"currentColor\" text-anchor=\"middle\">compound</textPath>\n",
       "    </text>\n",
       "    <path class=\"displacy-arrowhead\" d=\"M2950,244.0 L2942,232.0 2958,232.0\" fill=\"currentColor\"/>\n",
       "</g>\n",
       "\n",
       "<g class=\"displacy-arrow\">\n",
       "    <path class=\"displacy-arc\" id=\"arrow-e20d693ec622409b8006c58e3bab2fde-0-24\" stroke-width=\"2px\" d=\"M2830,242.0 C2830,122.0 3040.0,122.0 3040.0,242.0\" fill=\"none\" stroke=\"currentColor\"/>\n",
       "    <text dy=\"1.25em\" style=\"font-size: 0.8em; letter-spacing: 1px\">\n",
       "        <textPath xlink:href=\"#arrow-e20d693ec622409b8006c58e3bab2fde-0-24\" class=\"displacy-label\" startOffset=\"50%\" side=\"left\" fill=\"currentColor\" text-anchor=\"middle\">pobj</textPath>\n",
       "    </text>\n",
       "    <path class=\"displacy-arrowhead\" d=\"M3040.0,244.0 L3048.0,232.0 3032.0,232.0\" fill=\"currentColor\"/>\n",
       "</g>\n",
       "</svg>"
      ],
      "text/plain": [
       "<IPython.core.display.HTML object>"
      ]
     },
     "metadata": {},
     "output_type": "display_data"
    }
   ],
   "source": [
    "displacy.render(nlp(str(sentences[rint])),\n",
    "                # indicates that I want to visualize dependecies\n",
    "                style='dep',\n",
    "                # indicates that I want displacy to generate HTML code to fit in the notebook\n",
    "                jupyter=True, \n",
    "                # stylistic - the dictionary functions just like a CSS property \n",
    "                options = {'distance':120,\n",
    "                           'compact':False,\n",
    "                           'font':\"Arial\",\n",
    "                           'bg':\"#571D45\",\n",
    "                           'color': 'white'})"
   ]
  },
  {
   "cell_type": "markdown",
   "metadata": {},
   "source": [
    "The next step I'll complete is called _lemmatization_, which basically means removing inflectional endings only and return the base or dictionary form of a word, which is known as a _lemma_. I'll also take the chance to extract the part-of-speech as well. "
   ]
  },
  {
   "cell_type": "code",
   "execution_count": 39,
   "metadata": {},
   "outputs": [
    {
     "data": {
      "text/plain": [
       "[('reprised', 'VERB', 'reprise'),\n",
       " ('story', 'NOUN', 'story'),\n",
       " ('2018', 'NUM', '2018'),\n",
       " ('campaign', 'NOUN', 'campaign'),\n",
       " ('Representative', 'PROPN', 'Representative'),\n",
       " ('Andy', 'PROPN', 'Andy'),\n",
       " ('Barr', 'PROPN', 'Barr'),\n",
       " ('recounting', 'VERB', 'recount'),\n",
       " ('young', 'ADJ', 'young'),\n",
       " ('woman', 'NOUN', 'woman'),\n",
       " ('wrote', 'VERB', 'write'),\n",
       " ('Mr.', 'PROPN', 'Mr.'),\n",
       " ('McConnell', 'PROPN', 'McConnell')]"
      ]
     },
     "execution_count": 39,
     "metadata": {},
     "output_type": "execute_result"
    }
   ],
   "source": [
    "[(x.orth_,\n",
    "  x.pos_,\n",
    "  x.lemma_) for x in [\n",
    "    y\n",
    "    for y\n",
    "    in nlp(str(sentences[rint]))\n",
    "    if not y.is_stop and y.pos_ != 'PUNCT']]"
   ]
  },
  {
   "cell_type": "code",
   "execution_count": 40,
   "metadata": {},
   "outputs": [
    {
     "data": {
      "text/plain": [
       "{'2018': 'DATE', 'Andy Barr': 'PERSON', 'McConnell': 'PERSON'}"
      ]
     },
     "execution_count": 40,
     "metadata": {},
     "output_type": "execute_result"
    }
   ],
   "source": [
    "dict([(str(x), x.label_) for x in nlp(str(sentences[rint])).ents])"
   ]
  },
  {
   "cell_type": "code",
   "execution_count": 41,
   "metadata": {},
   "outputs": [
    {
     "name": "stdout",
     "output_type": "stream",
     "text": [
      "[(She, 'O', ''), (also, 'O', ''), (reprised, 'O', ''), (a, 'O', ''), (story, 'O', ''), (she, 'O', ''), (used, 'O', ''), (in, 'O', ''), (her, 'O', ''), (2018, 'B', 'DATE'), (campaign, 'O', ''), (against, 'O', ''), (Representative, 'O', ''), (Andy, 'B', 'PERSON'), (Barr, 'I', 'PERSON'), (,, 'O', ''), (recounting, 'O', ''), (that, 'O', ''), (as, 'O', ''), (a, 'O', ''), (young, 'O', ''), (woman, 'O', ''), (she, 'O', ''), (wrote, 'O', ''), (to, 'O', ''), (Mr., 'O', ''), (McConnell, 'B', 'PERSON')]\n"
     ]
    }
   ],
   "source": [
    "print([(x, x.ent_iob_, x.ent_type_) for x in sentences[rint]])"
   ]
  },
  {
   "cell_type": "markdown",
   "metadata": {},
   "source": [
    "Now, just for kicks, I'll use displacy to visualize the entire article. "
   ]
  },
  {
   "cell_type": "code",
   "execution_count": 60,
   "metadata": {},
   "outputs": [
    {
     "data": {
      "text/html": [
       "<div class=\"entities\" style=\"line-height: 2.5; direction: ltr\">[\n",
       "<mark class=\"entity\" style=\"background: #7aecec; padding: 0.45em 0.6em; margin: 0 0.25em; line-height: 1; border-radius: 0.35em; box-decoration-break: clone; -webkit-box-decoration-break: clone\">\n",
       "    The New York Times\n",
       "    <span style=\"font-size: 0.8em; font-weight: bold; line-height: 1; border-radius: 0.35em; text-transform: uppercase; vertical-align: middle; margin-left: 0.5rem\">ORG</span>\n",
       "</mark>\n",
       " SectionsSEARCHSkip to contentSkip to site, indexPoliticsSubscribeLog \n",
       "<mark class=\"entity\" style=\"background: #aa9cfc; padding: 0.45em 0.6em; margin: 0 0.25em; line-height: 1; border-radius: 0.35em; box-decoration-break: clone; -webkit-box-decoration-break: clone\">\n",
       "    InLog InToday’s\n",
       "    <span style=\"font-size: 0.8em; font-weight: bold; line-height: 1; border-radius: 0.35em; text-transform: uppercase; vertical-align: middle; margin-left: 0.5rem\">PERSON</span>\n",
       "</mark>\n",
       ", PaperPolitics|Amy McGrath Opens Campaign to Oust \n",
       "<mark class=\"entity\" style=\"background: #aa9cfc; padding: 0.45em 0.6em; margin: 0 0.25em; line-height: 1; border-radius: 0.35em; box-decoration-break: clone; -webkit-box-decoration-break: clone\">\n",
       "    Mitch McConnell\n",
       "    <span style=\"font-size: 0.8em; font-weight: bold; line-height: 1; border-radius: 0.35em; text-transform: uppercase; vertical-align: middle; margin-left: 0.5rem\">PERSON</span>\n",
       "</mark>\n",
       " in 2020AdvertisementSupported byAmy \n",
       "<mark class=\"entity\" style=\"background: #aa9cfc; padding: 0.45em 0.6em; margin: 0 0.25em; line-height: 1; border-radius: 0.35em; box-decoration-break: clone; -webkit-box-decoration-break: clone\">\n",
       "    McGrath Opens Campaign\n",
       "    <span style=\"font-size: 0.8em; font-weight: bold; line-height: 1; border-radius: 0.35em; text-transform: uppercase; vertical-align: middle; margin-left: 0.5rem\">PERSON</span>\n",
       "</mark>\n",
       " to Oust \n",
       "<mark class=\"entity\" style=\"background: #aa9cfc; padding: 0.45em 0.6em; margin: 0 0.25em; line-height: 1; border-radius: 0.35em; box-decoration-break: clone; -webkit-box-decoration-break: clone\">\n",
       "    Mitch McConnell\n",
       "    <span style=\"font-size: 0.8em; font-weight: bold; line-height: 1; border-radius: 0.35em; text-transform: uppercase; vertical-align: middle; margin-left: 0.5rem\">PERSON</span>\n",
       "</mark>\n",
       " in \n",
       "<mark class=\"entity\" style=\"background: #e4e7d2; padding: 0.45em 0.6em; margin: 0 0.25em; line-height: 1; border-radius: 0.35em; box-decoration-break: clone; -webkit-box-decoration-break: clone\">\n",
       "    2020ImageAmy\n",
       "    <span style=\"font-size: 0.8em; font-weight: bold; line-height: 1; border-radius: 0.35em; text-transform: uppercase; vertical-align: middle; margin-left: 0.5rem\">CARDINAL</span>\n",
       "</mark>\n",
       " McGrath on \n",
       "<mark class=\"entity\" style=\"background: #bfe1d9; padding: 0.45em 0.6em; margin: 0 0.25em; line-height: 1; border-radius: 0.35em; box-decoration-break: clone; -webkit-box-decoration-break: clone\">\n",
       "    election night\n",
       "    <span style=\"font-size: 0.8em; font-weight: bold; line-height: 1; border-radius: 0.35em; text-transform: uppercase; vertical-align: middle; margin-left: 0.5rem\">TIME</span>\n",
       "</mark>\n",
       " in \n",
       "<mark class=\"entity\" style=\"background: #bfe1d9; padding: 0.45em 0.6em; margin: 0 0.25em; line-height: 1; border-radius: 0.35em; box-decoration-break: clone; -webkit-box-decoration-break: clone\">\n",
       "    November\n",
       "    <span style=\"font-size: 0.8em; font-weight: bold; line-height: 1; border-radius: 0.35em; text-transform: uppercase; vertical-align: middle; margin-left: 0.5rem\">DATE</span>\n",
       "</mark>\n",
       "., She lost her bid for a \n",
       "<mark class=\"entity\" style=\"background: #7aecec; padding: 0.45em 0.6em; margin: 0 0.25em; line-height: 1; border-radius: 0.35em; box-decoration-break: clone; -webkit-box-decoration-break: clone\">\n",
       "    House\n",
       "    <span style=\"font-size: 0.8em; font-weight: bold; line-height: 1; border-radius: 0.35em; text-transform: uppercase; vertical-align: middle; margin-left: 0.5rem\">ORG</span>\n",
       "</mark>\n",
       " seat \n",
       "<mark class=\"entity\" style=\"background: #bfe1d9; padding: 0.45em 0.6em; margin: 0 0.25em; line-height: 1; border-radius: 0.35em; box-decoration-break: clone; -webkit-box-decoration-break: clone\">\n",
       "    last year\n",
       "    <span style=\"font-size: 0.8em; font-weight: bold; line-height: 1; border-radius: 0.35em; text-transform: uppercase; vertical-align: middle; margin-left: 0.5rem\">DATE</span>\n",
       "</mark>\n",
       " and is now seeking to challenge Senator \n",
       "<mark class=\"entity\" style=\"background: #aa9cfc; padding: 0.45em 0.6em; margin: 0 0.25em; line-height: 1; border-radius: 0.35em; box-decoration-break: clone; -webkit-box-decoration-break: clone\">\n",
       "    Mitch McConnell\n",
       "    <span style=\"font-size: 0.8em; font-weight: bold; line-height: 1; border-radius: 0.35em; text-transform: uppercase; vertical-align: middle; margin-left: 0.5rem\">PERSON</span>\n",
       "</mark>\n",
       " of \n",
       "<mark class=\"entity\" style=\"background: #feca74; padding: 0.45em 0.6em; margin: 0 0.25em; line-height: 1; border-radius: 0.35em; box-decoration-break: clone; -webkit-box-decoration-break: clone\">\n",
       "    Kentucky\n",
       "    <span style=\"font-size: 0.8em; font-weight: bold; line-height: 1; border-radius: 0.35em; text-transform: uppercase; vertical-align: middle; margin-left: 0.5rem\">GPE</span>\n",
       "</mark>\n",
       "., \n",
       "<mark class=\"entity\" style=\"background: #7aecec; padding: 0.45em 0.6em; margin: 0 0.25em; line-height: 1; border-radius: 0.35em; box-decoration-break: clone; -webkit-box-decoration-break: clone\">\n",
       "    CreditCreditMaddie McGarvey\n",
       "    <span style=\"font-size: 0.8em; font-weight: bold; line-height: 1; border-radius: 0.35em; text-transform: uppercase; vertical-align: middle; margin-left: 0.5rem\">ORG</span>\n",
       "</mark>\n",
       " for The New York TimesBy Jennifer SteinhauerJuly 9, \n",
       "<mark class=\"entity\" style=\"background: #ff9561; padding: 0.45em 0.6em; margin: 0 0.25em; line-height: 1; border-radius: 0.35em; box-decoration-break: clone; -webkit-box-decoration-break: clone\">\n",
       "    2019WASHINGTON — Amy McGrath\n",
       "    <span style=\"font-size: 0.8em; font-weight: bold; line-height: 1; border-radius: 0.35em; text-transform: uppercase; vertical-align: middle; margin-left: 0.5rem\">LOC</span>\n",
       "</mark>\n",
       ", a retired \n",
       "<mark class=\"entity\" style=\"background: #c887fb; padding: 0.45em 0.6em; margin: 0 0.25em; line-height: 1; border-radius: 0.35em; box-decoration-break: clone; -webkit-box-decoration-break: clone\">\n",
       "    Marine\n",
       "    <span style=\"font-size: 0.8em; font-weight: bold; line-height: 1; border-radius: 0.35em; text-transform: uppercase; vertical-align: middle; margin-left: 0.5rem\">NORP</span>\n",
       "</mark>\n",
       " lieutenant colonel and combat pilot whose star power in \n",
       "<mark class=\"entity\" style=\"background: #7aecec; padding: 0.45em 0.6em; margin: 0 0.25em; line-height: 1; border-radius: 0.35em; box-decoration-break: clone; -webkit-box-decoration-break: clone\">\n",
       "    the Democratic Party\n",
       "    <span style=\"font-size: 0.8em; font-weight: bold; line-height: 1; border-radius: 0.35em; text-transform: uppercase; vertical-align: middle; margin-left: 0.5rem\">ORG</span>\n",
       "</mark>\n",
       " in \n",
       "<mark class=\"entity\" style=\"background: #bfe1d9; padding: 0.45em 0.6em; margin: 0 0.25em; line-height: 1; border-radius: 0.35em; box-decoration-break: clone; -webkit-box-decoration-break: clone\">\n",
       "    2018\n",
       "    <span style=\"font-size: 0.8em; font-weight: bold; line-height: 1; border-radius: 0.35em; text-transform: uppercase; vertical-align: middle; margin-left: 0.5rem\">DATE</span>\n",
       "</mark>\n",
       " failed to capture her a \n",
       "<mark class=\"entity\" style=\"background: #7aecec; padding: 0.45em 0.6em; margin: 0 0.25em; line-height: 1; border-radius: 0.35em; box-decoration-break: clone; -webkit-box-decoration-break: clone\">\n",
       "    House\n",
       "    <span style=\"font-size: 0.8em; font-weight: bold; line-height: 1; border-radius: 0.35em; text-transform: uppercase; vertical-align: middle; margin-left: 0.5rem\">ORG</span>\n",
       "</mark>\n",
       " seat in \n",
       "<mark class=\"entity\" style=\"background: #feca74; padding: 0.45em 0.6em; margin: 0 0.25em; line-height: 1; border-radius: 0.35em; box-decoration-break: clone; -webkit-box-decoration-break: clone\">\n",
       "    Kentucky\n",
       "    <span style=\"font-size: 0.8em; font-weight: bold; line-height: 1; border-radius: 0.35em; text-transform: uppercase; vertical-align: middle; margin-left: 0.5rem\">GPE</span>\n",
       "</mark>\n",
       ", announced \n",
       "<mark class=\"entity\" style=\"background: #bfe1d9; padding: 0.45em 0.6em; margin: 0 0.25em; line-height: 1; border-radius: 0.35em; box-decoration-break: clone; -webkit-box-decoration-break: clone\">\n",
       "    Tuesday\n",
       "    <span style=\"font-size: 0.8em; font-weight: bold; line-height: 1; border-radius: 0.35em; text-transform: uppercase; vertical-align: middle; margin-left: 0.5rem\">DATE</span>\n",
       "</mark>\n",
       " that she would seek to take on Senator \n",
       "<mark class=\"entity\" style=\"background: #aa9cfc; padding: 0.45em 0.6em; margin: 0 0.25em; line-height: 1; border-radius: 0.35em; box-decoration-break: clone; -webkit-box-decoration-break: clone\">\n",
       "    Mitch McConnell\n",
       "    <span style=\"font-size: 0.8em; font-weight: bold; line-height: 1; border-radius: 0.35em; text-transform: uppercase; vertical-align: middle; margin-left: 0.5rem\">PERSON</span>\n",
       "</mark>\n",
       ", the \n",
       "<mark class=\"entity\" style=\"background: #c887fb; padding: 0.45em 0.6em; margin: 0 0.25em; line-height: 1; border-radius: 0.35em; box-decoration-break: clone; -webkit-box-decoration-break: clone\">\n",
       "    Republican\n",
       "    <span style=\"font-size: 0.8em; font-weight: bold; line-height: 1; border-radius: 0.35em; text-transform: uppercase; vertical-align: middle; margin-left: 0.5rem\">NORP</span>\n",
       "</mark>\n",
       " majority leader, for his seat in 2020.Ms., \n",
       "<mark class=\"entity\" style=\"background: #feca74; padding: 0.45em 0.6em; margin: 0 0.25em; line-height: 1; border-radius: 0.35em; box-decoration-break: clone; -webkit-box-decoration-break: clone\">\n",
       "    McGrath\n",
       "    <span style=\"font-size: 0.8em; font-weight: bold; line-height: 1; border-radius: 0.35em; text-transform: uppercase; vertical-align: middle; margin-left: 0.5rem\">GPE</span>\n",
       "</mark>\n",
       ", \n",
       "<mark class=\"entity\" style=\"background: #bfe1d9; padding: 0.45em 0.6em; margin: 0 0.25em; line-height: 1; border-radius: 0.35em; box-decoration-break: clone; -webkit-box-decoration-break: clone\">\n",
       "    44\n",
       "    <span style=\"font-size: 0.8em; font-weight: bold; line-height: 1; border-radius: 0.35em; text-transform: uppercase; vertical-align: middle; margin-left: 0.5rem\">DATE</span>\n",
       "</mark>\n",
       ", made her intentions known with a dark video denouncing Mr. \n",
       "<mark class=\"entity\" style=\"background: #aa9cfc; padding: 0.45em 0.6em; margin: 0 0.25em; line-height: 1; border-radius: 0.35em; box-decoration-break: clone; -webkit-box-decoration-break: clone\">\n",
       "    McConnell\n",
       "    <span style=\"font-size: 0.8em; font-weight: bold; line-height: 1; border-radius: 0.35em; text-transform: uppercase; vertical-align: middle; margin-left: 0.5rem\">PERSON</span>\n",
       "</mark>\n",
       ", \n",
       "<mark class=\"entity\" style=\"background: #bfe1d9; padding: 0.45em 0.6em; margin: 0 0.25em; line-height: 1; border-radius: 0.35em; box-decoration-break: clone; -webkit-box-decoration-break: clone\">\n",
       "    77\n",
       "    <span style=\"font-size: 0.8em; font-weight: bold; line-height: 1; border-radius: 0.35em; text-transform: uppercase; vertical-align: middle; margin-left: 0.5rem\">DATE</span>\n",
       "</mark>\n",
       ", who was \n",
       "<mark class=\"entity\" style=\"background: #e4e7d2; padding: 0.45em 0.6em; margin: 0 0.25em; line-height: 1; border-radius: 0.35em; box-decoration-break: clone; -webkit-box-decoration-break: clone\">\n",
       "    first\n",
       "    <span style=\"font-size: 0.8em; font-weight: bold; line-height: 1; border-radius: 0.35em; text-transform: uppercase; vertical-align: middle; margin-left: 0.5rem\">ORDINAL</span>\n",
       "</mark>\n",
       " elected to the \n",
       "<mark class=\"entity\" style=\"background: #7aecec; padding: 0.45em 0.6em; margin: 0 0.25em; line-height: 1; border-radius: 0.35em; box-decoration-break: clone; -webkit-box-decoration-break: clone\">\n",
       "    Senate\n",
       "    <span style=\"font-size: 0.8em; font-weight: bold; line-height: 1; border-radius: 0.35em; text-transform: uppercase; vertical-align: middle; margin-left: 0.5rem\">ORG</span>\n",
       "</mark>\n",
       " in \n",
       "<mark class=\"entity\" style=\"background: #bfe1d9; padding: 0.45em 0.6em; margin: 0 0.25em; line-height: 1; border-radius: 0.35em; box-decoration-break: clone; -webkit-box-decoration-break: clone\">\n",
       "    1984\n",
       "    <span style=\"font-size: 0.8em; font-weight: bold; line-height: 1; border-radius: 0.35em; text-transform: uppercase; vertical-align: middle; margin-left: 0.5rem\">DATE</span>\n",
       "</mark>\n",
       " and has served as the central ballast for President \n",
       "<mark class=\"entity\" style=\"background: #aa9cfc; padding: 0.45em 0.6em; margin: 0 0.25em; line-height: 1; border-radius: 0.35em; box-decoration-break: clone; -webkit-box-decoration-break: clone\">\n",
       "    Trump\n",
       "    <span style=\"font-size: 0.8em; font-weight: bold; line-height: 1; border-radius: 0.35em; text-transform: uppercase; vertical-align: middle; margin-left: 0.5rem\">PERSON</span>\n",
       "</mark>\n",
       " in Washington.“Everything that’s wrong in \n",
       "<mark class=\"entity\" style=\"background: #feca74; padding: 0.45em 0.6em; margin: 0 0.25em; line-height: 1; border-radius: 0.35em; box-decoration-break: clone; -webkit-box-decoration-break: clone\">\n",
       "    Washington\n",
       "    <span style=\"font-size: 0.8em; font-weight: bold; line-height: 1; border-radius: 0.35em; text-transform: uppercase; vertical-align: middle; margin-left: 0.5rem\">GPE</span>\n",
       "</mark>\n",
       " had to start someplace,” Ms. \n",
       "<mark class=\"entity\" style=\"background: #aa9cfc; padding: 0.45em 0.6em; margin: 0 0.25em; line-height: 1; border-radius: 0.35em; box-decoration-break: clone; -webkit-box-decoration-break: clone\">\n",
       "    McGrath\n",
       "    <span style=\"font-size: 0.8em; font-weight: bold; line-height: 1; border-radius: 0.35em; text-transform: uppercase; vertical-align: middle; margin-left: 0.5rem\">PERSON</span>\n",
       "</mark>\n",
       " said in the video., “, It started with this man who was elected \n",
       "<mark class=\"entity\" style=\"background: #bfe1d9; padding: 0.45em 0.6em; margin: 0 0.25em; line-height: 1; border-radius: 0.35em; box-decoration-break: clone; -webkit-box-decoration-break: clone\">\n",
       "    a lifetime ago\n",
       "    <span style=\"font-size: 0.8em; font-weight: bold; line-height: 1; border-radius: 0.35em; text-transform: uppercase; vertical-align: middle; margin-left: 0.5rem\">DATE</span>\n",
       "</mark>\n",
       ", and who has, bit by bit, \n",
       "<mark class=\"entity\" style=\"background: #bfe1d9; padding: 0.45em 0.6em; margin: 0 0.25em; line-height: 1; border-radius: 0.35em; box-decoration-break: clone; -webkit-box-decoration-break: clone\">\n",
       "    year\n",
       "    <span style=\"font-size: 0.8em; font-weight: bold; line-height: 1; border-radius: 0.35em; text-transform: uppercase; vertical-align: middle; margin-left: 0.5rem\">DATE</span>\n",
       "</mark>\n",
       " by \n",
       "<mark class=\"entity\" style=\"background: #bfe1d9; padding: 0.45em 0.6em; margin: 0 0.25em; line-height: 1; border-radius: 0.35em; box-decoration-break: clone; -webkit-box-decoration-break: clone\">\n",
       "    year\n",
       "    <span style=\"font-size: 0.8em; font-weight: bold; line-height: 1; border-radius: 0.35em; text-transform: uppercase; vertical-align: middle; margin-left: 0.5rem\">DATE</span>\n",
       "</mark>\n",
       ", turned \n",
       "<mark class=\"entity\" style=\"background: #feca74; padding: 0.45em 0.6em; margin: 0 0.25em; line-height: 1; border-radius: 0.35em; box-decoration-break: clone; -webkit-box-decoration-break: clone\">\n",
       "    Washington\n",
       "    <span style=\"font-size: 0.8em; font-weight: bold; line-height: 1; border-radius: 0.35em; text-transform: uppercase; vertical-align: middle; margin-left: 0.5rem\">GPE</span>\n",
       "</mark>\n",
       " into something we all despise.”I’m running to replace \n",
       "<mark class=\"entity\" style=\"background: #aa9cfc; padding: 0.45em 0.6em; margin: 0 0.25em; line-height: 1; border-radius: 0.35em; box-decoration-break: clone; -webkit-box-decoration-break: clone\">\n",
       "    Mitch McConnell\n",
       "    <span style=\"font-size: 0.8em; font-weight: bold; line-height: 1; border-radius: 0.35em; text-transform: uppercase; vertical-align: middle; margin-left: 0.5rem\">PERSON</span>\n",
       "</mark>\n",
       " in \n",
       "<mark class=\"entity\" style=\"background: #7aecec; padding: 0.45em 0.6em; margin: 0 0.25em; line-height: 1; border-radius: 0.35em; box-decoration-break: clone; -webkit-box-decoration-break: clone\">\n",
       "    the U.S. Senate\n",
       "    <span style=\"font-size: 0.8em; font-weight: bold; line-height: 1; border-radius: 0.35em; text-transform: uppercase; vertical-align: middle; margin-left: 0.5rem\">ORG</span>\n",
       "</mark>\n",
       "., Everything that’s wrong with \n",
       "<mark class=\"entity\" style=\"background: #feca74; padding: 0.45em 0.6em; margin: 0 0.25em; line-height: 1; border-radius: 0.35em; box-decoration-break: clone; -webkit-box-decoration-break: clone\">\n",
       "    Washington\n",
       "    <span style=\"font-size: 0.8em; font-weight: bold; line-height: 1; border-radius: 0.35em; text-transform: uppercase; vertical-align: middle; margin-left: 0.5rem\">GPE</span>\n",
       "</mark>\n",
       " had to start somewhere]</div>"
      ],
      "text/plain": [
       "<IPython.core.display.HTML object>"
      ]
     },
     "metadata": {},
     "output_type": "display_data"
    }
   ],
   "source": [
    "displacy.render(nlp(str(sentences[1:10])), \n",
    "                jupyter=True, \n",
    "                style=\"ent\")    "
   ]
  },
  {
   "cell_type": "code",
   "execution_count": null,
   "metadata": {},
   "outputs": [],
   "source": []
  },
  {
   "cell_type": "code",
   "execution_count": 63,
   "metadata": {},
   "outputs": [],
   "source": [
    "def visualize_ner(a_string):\n",
    "    # all colors can be associated with a tag as a key/value dict\n",
    "    #   the format = {\"TAG\" : \"color\"}, which overrides the TAG\n",
    "    colors = {\"ORG\": \"linear-gradient(90deg, #aa9cfc, #fc9ce7)\"}\n",
    "    # all options can be associated with a parameter as a k/v dict\n",
    "    #   format = {\"ents\": [\"TAG\"], \"colors\": colors}\n",
    "    options = {\"ents\": [\"ORG\"], \"colors\": colors}\n",
    "    visualization = displacy.render(nlp(a_string),\n",
    "                                    jupyter=True,\n",
    "                                    # indicates that I want to visualize entities\n",
    "                                    style=\"ent\",\n",
    "                                    # I can use the options to alter the look\n",
    "                                    # options=options,\n",
    "                                    # wraps the output up as an html file for display\n",
    "                                    page=True)\n",
    "    return visualization"
   ]
  },
  {
   "cell_type": "code",
   "execution_count": 64,
   "metadata": {},
   "outputs": [
    {
     "data": {
      "text/html": [
       "<!DOCTYPE html>\n",
       "<html lang=\"en\">\n",
       "    <head>\n",
       "        <title>displaCy</title>\n",
       "    </head>\n",
       "\n",
       "    <body style=\"font-size: 16px; font-family: -apple-system, BlinkMacSystemFont, 'Segoe UI', Helvetica, Arial, sans-serif, 'Apple Color Emoji', 'Segoe UI Emoji', 'Segoe UI Symbol'; padding: 4rem 2rem; direction: ltr\">\n",
       "<figure style=\"margin-bottom: 6rem\">\n",
       "<div class=\"entities\" style=\"line-height: 2.5; direction: ltr\">A call to arms for \n",
       "<mark class=\"entity\" style=\"background: #feca74; padding: 0.45em 0.6em; margin: 0 0.25em; line-height: 1; border-radius: 0.35em; box-decoration-break: clone; -webkit-box-decoration-break: clone\">\n",
       "    Sri Lankan\n",
       "    <span style=\"font-size: 0.8em; font-weight: bold; line-height: 1; border-radius: 0.35em; text-transform: uppercase; vertical-align: middle; margin-left: 0.5rem\">GPE</span>\n",
       "</mark>\n",
       " monks. Ethnic cleansing of the \n",
       "<mark class=\"entity\" style=\"background: #aa9cfc; padding: 0.45em 0.6em; margin: 0 0.25em; line-height: 1; border-radius: 0.35em; box-decoration-break: clone; -webkit-box-decoration-break: clone\">\n",
       "    Rohingya\n",
       "    <span style=\"font-size: 0.8em; font-weight: bold; line-height: 1; border-radius: 0.35em; text-transform: uppercase; vertical-align: middle; margin-left: 0.5rem\">PERSON</span>\n",
       "</mark>\n",
       " in \n",
       "<mark class=\"entity\" style=\"background: #feca74; padding: 0.45em 0.6em; margin: 0 0.25em; line-height: 1; border-radius: 0.35em; box-decoration-break: clone; -webkit-box-decoration-break: clone\">\n",
       "    Myanmar\n",
       "    <span style=\"font-size: 0.8em; font-weight: bold; line-height: 1; border-radius: 0.35em; text-transform: uppercase; vertical-align: middle; margin-left: 0.5rem\">GPE</span>\n",
       "</mark>\n",
       ". A \n",
       "<mark class=\"entity\" style=\"background: #c887fb; padding: 0.45em 0.6em; margin: 0 0.25em; line-height: 1; border-radius: 0.35em; box-decoration-break: clone; -webkit-box-decoration-break: clone\">\n",
       "    Buddhist\n",
       "    <span style=\"font-size: 0.8em; font-weight: bold; line-height: 1; border-radius: 0.35em; text-transform: uppercase; vertical-align: middle; margin-left: 0.5rem\">NORP</span>\n",
       "</mark>\n",
       " faith known for pacifism is taking its place in a new age of nationalism.</div>\n",
       "</figure>\n",
       "</body>\n",
       "</html>"
      ],
      "text/plain": [
       "<IPython.core.display.HTML object>"
      ]
     },
     "metadata": {},
     "output_type": "display_data"
    }
   ],
   "source": [
    "visualize_ner('A call to arms for Sri Lankan monks. Ethnic cleansing of the Rohingya in Myanmar. ' \\\n",
    "                'A Buddhist faith known for pacifism is taking its place in a new age of nationalism.')"
   ]
  },
  {
   "cell_type": "code",
   "execution_count": null,
   "metadata": {},
   "outputs": [],
   "source": []
  }
 ],
 "metadata": {
  "kernelspec": {
   "display_name": "default",
   "language": "python",
   "name": "default"
  },
  "language_info": {
   "codemirror_mode": {
    "name": "ipython",
    "version": 3
   },
   "file_extension": ".py",
   "mimetype": "text/x-python",
   "name": "python",
   "nbconvert_exporter": "python",
   "pygments_lexer": "ipython3",
   "version": "3.6.8"
  }
 },
 "nbformat": 4,
 "nbformat_minor": 2
}
