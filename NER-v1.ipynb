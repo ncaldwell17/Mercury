{
 "cells": [
  {
   "cell_type": "markdown",
   "metadata": {},
   "source": [
    "# What is Named Entity Recognition?\n",
    "\n",
    "Named entities - in QS's use case - can include:\n",
    "1. Drug Names, (e.g.  Adalimumab)\n",
    "2. Condition Names, (e.g. Non-infectious uveitis) \n",
    "3. Treatments, (e.g. Dexamethasone intravitreal implant)\n",
    "4. Side-Effects paired w/ Drug Names?, (e.g. nasopharyngitis, entity usually follows a tagged line indicating the drug)\n",
    "5. Procedure, (e.g. X Drug costs Y amount for Z treatment)\n",
    "\n",
    "This is achieved using one or more machine learning sequence models to label entities but can also call special rule-based components to interpret numerical data such as prices (e.g. converts all currencies to USD) using regular expressions. \n",
    "\n",
    "### NER Pipeline Overview (Based on the Stanford Model) \n",
    "1. Statistical Models\n",
    "2. Numeric Sequences and SUTime\n",
    "3. Fine Grained NER\n",
    "4. RegexNER Rules Format\n",
    "5. Customizing the Fine-Grained NER\n",
    "6. Additional TokensRegexNER Rules\n",
    "7. Additional TokensRegex Rules\n",
    "8. Entity Mention Detection \n",
    "9. API Creation \n",
    "10. Accessing Entity Confidences \n",
    "\n",
    "### Foundational Paper: Incorporating Non-local Information into Information Extraction Systems by Gibbs Sampling - Stanford \n",
    "Source: [White Paper](https://nlp.stanford.edu/~manning/papers/gibbscrf3.pdf)\n",
    "Summary:\n",
    "- d"
   ]
  },
  {
   "cell_type": "markdown",
   "metadata": {},
   "source": [
    "## Challenges \n",
    "\n",
    "There are three main challenges towards the development of a medically-specific, fine-grained Entity Recognizer that can be trained to recognize uncommon entities:\n",
    "1. Selection of the tag set (i.e. the labels)\n",
    "2. Creation of training data\n",
    "3. Development of a fast and accurate multi-class labeling algorithm.\n",
    "\n",
    "### Selection of the Tag Set \n",
    "[FIGER](http://xiaoling.github.io/pubs/ling-aaai12.pdf)'s authors propose the curation of 112 unique tags based on [Freebase](https://developers.google.com/freebase/guide/basic_concepts) types. \n",
    "\n",
    "### Training Data Creation\n",
    "FIGER's authors propose exploiting anchor links in Wikipedia text to automatically label entity segments with appropriate tags. \n",
    "\n",
    "### Fast/Accurate Model \n",
    "Using the heuristically-labeled (<- weird way of phrasing that) training data to train a conditional random field (CRF) model for segmentation that identifies the boundaries of text that mentions an entity. \n",
    "\n",
    "The final step is assigning tags to the segmented mentions using an adapted perceptron algorithm (isn't that just a neural network?) for multi-class, multi-label classification. \n",
    "\n",
    "### Evaluation\n",
    "Evaluation of the model takes two stages:\n",
    "1. Precision/accuracy of the tag assignment\n",
    "2. Do the tags actually have use beyond their assignment?"
   ]
  },
  {
   "cell_type": "code",
   "execution_count": 5,
   "metadata": {},
   "outputs": [],
   "source": [
    "import pandas as pd\n",
    "import numpy as np\n",
    "import sklearn.preprocessing as skp"
   ]
  },
  {
   "cell_type": "code",
   "execution_count": null,
   "metadata": {},
   "outputs": [],
   "source": []
  }
 ],
 "metadata": {
  "kernelspec": {
   "display_name": "default",
   "language": "python",
   "name": "default"
  },
  "language_info": {
   "codemirror_mode": {
    "name": "ipython",
    "version": 3
   },
   "file_extension": ".py",
   "mimetype": "text/x-python",
   "name": "python",
   "nbconvert_exporter": "python",
   "pygments_lexer": "ipython3",
   "version": "3.6.8"
  }
 },
 "nbformat": 4,
 "nbformat_minor": 2
}
